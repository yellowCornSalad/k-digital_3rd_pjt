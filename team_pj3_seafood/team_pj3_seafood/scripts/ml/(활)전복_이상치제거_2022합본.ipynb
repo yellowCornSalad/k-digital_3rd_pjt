{
 "cells": [
  {
   "cell_type": "code",
   "execution_count": 1,
   "metadata": {},
   "outputs": [],
   "source": [
    "import warnings\n",
    "warnings.filterwarnings('ignore')"
   ]
  },
  {
   "cell_type": "code",
   "execution_count": 2,
   "metadata": {},
   "outputs": [],
   "source": [
    "import pandas as pd\n",
    "import numpy as np\n",
    "import matplotlib.pyplot as plt\n",
    "import seaborn as sns\n",
    "from sklearn.model_selection import train_test_split\n",
    "from sklearn.linear_model import LinearRegression\n",
    "from sklearn.metrics import mean_squared_error, r2_score\n",
    "from sklearn.preprocessing import MinMaxScaler, StandardScaler\n",
    "from sklearn.model_selection import GridSearchCV, KFold\n",
    "from sklearn.ensemble import RandomForestRegressor\n",
    "from xgboost import XGBRegressor\n",
    "from lightgbm import LGBMRegressor"
   ]
  },
  {
   "cell_type": "code",
   "execution_count": 3,
   "metadata": {},
   "outputs": [],
   "source": [
    "\n",
    "file1 = '../seafood_data_junho/전복.csv'\n",
    "file2 = '../seafood_data_junho/전복2022.csv'\n"
   ]
  },
  {
   "cell_type": "code",
   "execution_count": 4,
   "metadata": {},
   "outputs": [],
   "source": [
    "file1 = pd.read_csv(file1)\n",
    "file2 = pd.read_csv(file2)"
   ]
  },
  {
   "cell_type": "code",
   "execution_count": 5,
   "metadata": {},
   "outputs": [],
   "source": [
    "df1 = pd.DataFrame(file1)\n",
    "df2 = pd.DataFrame(file2)"
   ]
  },
  {
   "cell_type": "code",
   "execution_count": 6,
   "metadata": {},
   "outputs": [
    {
     "name": "stdout",
     "output_type": "stream",
     "text": [
      "<class 'pandas.core.frame.DataFrame'>\n",
      "RangeIndex: 32066 entries, 0 to 32065\n",
      "Data columns (total 8 columns):\n",
      " #   Column  Non-Null Count  Dtype \n",
      "---  ------  --------------  ----- \n",
      " 0   날짜      32066 non-null  object\n",
      " 1   어종      32066 non-null  object\n",
      " 2   산지      32066 non-null  object\n",
      " 3   규격      32066 non-null  object\n",
      " 4   포장      32066 non-null  object\n",
      " 5   수량      32066 non-null  object\n",
      " 6   중량      32066 non-null  object\n",
      " 7   평균가     32066 non-null  object\n",
      "dtypes: object(8)\n",
      "memory usage: 2.0+ MB\n"
     ]
    }
   ],
   "source": [
    "df1.info()"
   ]
  },
  {
   "cell_type": "code",
   "execution_count": 7,
   "metadata": {},
   "outputs": [
    {
     "data": {
      "text/plain": [
       "Index(['날짜', '어종', '산지', '규격', '포장', '수량', '중량', '평균가'], dtype='object')"
      ]
     },
     "execution_count": 7,
     "metadata": {},
     "output_type": "execute_result"
    }
   ],
   "source": [
    "df1.columns"
   ]
  },
  {
   "cell_type": "code",
   "execution_count": 8,
   "metadata": {},
   "outputs": [],
   "source": [
    "df1.columns = ['date', 'species', 'origin', 'standard', 'unit', 'amount', 'weight', 'avg_price']"
   ]
  },
  {
   "cell_type": "code",
   "execution_count": 9,
   "metadata": {},
   "outputs": [
    {
     "data": {
      "text/html": [
       "<div>\n",
       "<style scoped>\n",
       "    .dataframe tbody tr th:only-of-type {\n",
       "        vertical-align: middle;\n",
       "    }\n",
       "\n",
       "    .dataframe tbody tr th {\n",
       "        vertical-align: top;\n",
       "    }\n",
       "\n",
       "    .dataframe thead th {\n",
       "        text-align: right;\n",
       "    }\n",
       "</style>\n",
       "<table border=\"1\" class=\"dataframe\">\n",
       "  <thead>\n",
       "    <tr style=\"text-align: right;\">\n",
       "      <th></th>\n",
       "      <th>date</th>\n",
       "      <th>species</th>\n",
       "      <th>origin</th>\n",
       "      <th>standard</th>\n",
       "      <th>unit</th>\n",
       "      <th>amount</th>\n",
       "      <th>weight</th>\n",
       "      <th>avg_price</th>\n",
       "    </tr>\n",
       "  </thead>\n",
       "  <tbody>\n",
       "    <tr>\n",
       "      <th>count</th>\n",
       "      <td>32066</td>\n",
       "      <td>32066</td>\n",
       "      <td>32066</td>\n",
       "      <td>32066</td>\n",
       "      <td>32066</td>\n",
       "      <td>32066</td>\n",
       "      <td>32066</td>\n",
       "      <td>32066</td>\n",
       "    </tr>\n",
       "    <tr>\n",
       "      <th>unique</th>\n",
       "      <td>1533</td>\n",
       "      <td>4</td>\n",
       "      <td>18</td>\n",
       "      <td>107</td>\n",
       "      <td>7</td>\n",
       "      <td>511</td>\n",
       "      <td>12</td>\n",
       "      <td>619</td>\n",
       "    </tr>\n",
       "    <tr>\n",
       "      <th>top</th>\n",
       "      <td>2018-08-13</td>\n",
       "      <td>(활)전복</td>\n",
       "      <td>완도</td>\n",
       "      <td>12/13미</td>\n",
       "      <td>kg</td>\n",
       "      <td>11</td>\n",
       "      <td>1</td>\n",
       "      <td>23,000</td>\n",
       "    </tr>\n",
       "    <tr>\n",
       "      <th>freq</th>\n",
       "      <td>40</td>\n",
       "      <td>31517</td>\n",
       "      <td>31880</td>\n",
       "      <td>1621</td>\n",
       "      <td>31844</td>\n",
       "      <td>1600</td>\n",
       "      <td>32020</td>\n",
       "      <td>1023</td>\n",
       "    </tr>\n",
       "  </tbody>\n",
       "</table>\n",
       "</div>"
      ],
      "text/plain": [
       "              date species origin standard   unit amount weight avg_price\n",
       "count        32066   32066  32066    32066  32066  32066  32066     32066\n",
       "unique        1533       4     18      107      7    511     12       619\n",
       "top     2018-08-13   (활)전복     완도   12/13미     kg     11      1    23,000\n",
       "freq            40   31517  31880     1621  31844   1600  32020      1023"
      ]
     },
     "execution_count": 9,
     "metadata": {},
     "output_type": "execute_result"
    }
   ],
   "source": [
    "df1.describe()"
   ]
  },
  {
   "cell_type": "markdown",
   "metadata": {},
   "source": [
    "## 데이터타입 변환"
   ]
  },
  {
   "cell_type": "code",
   "execution_count": 10,
   "metadata": {},
   "outputs": [],
   "source": [
    "df1 = df1[df1.date != '날짜']"
   ]
  },
  {
   "cell_type": "markdown",
   "metadata": {},
   "source": [
    "### 평균가에 , 기호 없애기"
   ]
  },
  {
   "cell_type": "code",
   "execution_count": 11,
   "metadata": {},
   "outputs": [],
   "source": [
    "df1['avg_price'] = df1.avg_price.str.replace(',', '').astype('int')"
   ]
  },
  {
   "cell_type": "markdown",
   "metadata": {},
   "source": [
    "### 중량에 , 기호 없애기 (중량 float로 변환)"
   ]
  },
  {
   "cell_type": "code",
   "execution_count": 12,
   "metadata": {},
   "outputs": [],
   "source": [
    "# df['weight'] = df.avg_price.str.replace(',', '').astype('float')\n",
    "df1['weight'] = df1['weight'].astype('float')"
   ]
  },
  {
   "cell_type": "markdown",
   "metadata": {},
   "source": [
    "### 수량에 , 기호 없애기"
   ]
  },
  {
   "cell_type": "code",
   "execution_count": 13,
   "metadata": {},
   "outputs": [],
   "source": [
    "df1['amount'] = df1.amount.str.replace(',', '').astype('int')"
   ]
  },
  {
   "cell_type": "code",
   "execution_count": 14,
   "metadata": {},
   "outputs": [
    {
     "data": {
      "text/plain": [
       "date          object\n",
       "species       object\n",
       "origin        object\n",
       "standard      object\n",
       "unit          object\n",
       "amount         int32\n",
       "weight       float64\n",
       "avg_price      int32\n",
       "dtype: object"
      ]
     },
     "execution_count": 14,
     "metadata": {},
     "output_type": "execute_result"
    }
   ],
   "source": [
    "df1.dtypes"
   ]
  },
  {
   "cell_type": "code",
   "execution_count": 15,
   "metadata": {},
   "outputs": [
    {
     "name": "stdout",
     "output_type": "stream",
     "text": [
      "<class 'pandas.core.frame.DataFrame'>\n",
      "RangeIndex: 3088 entries, 0 to 3087\n",
      "Data columns (total 8 columns):\n",
      " #   Column  Non-Null Count  Dtype \n",
      "---  ------  --------------  ----- \n",
      " 0   날짜      3088 non-null   object\n",
      " 1   어종      3088 non-null   object\n",
      " 2   산지      3088 non-null   object\n",
      " 3   규격      3088 non-null   object\n",
      " 4   포장      3088 non-null   object\n",
      " 5   수량      3088 non-null   int64 \n",
      " 6   중량      3088 non-null   int64 \n",
      " 7   평균가     3088 non-null   object\n",
      "dtypes: int64(2), object(6)\n",
      "memory usage: 193.1+ KB\n"
     ]
    }
   ],
   "source": [
    "df2.info()"
   ]
  },
  {
   "cell_type": "code",
   "execution_count": 16,
   "metadata": {},
   "outputs": [],
   "source": [
    "df2.columns = ['date', 'species', 'origin', 'standard', 'unit', 'amount', 'weight', 'avg_price']"
   ]
  },
  {
   "cell_type": "code",
   "execution_count": 17,
   "metadata": {},
   "outputs": [],
   "source": [
    "df2['avg_price'] = df2.avg_price.str.replace(',', '').astype('int')"
   ]
  },
  {
   "cell_type": "code",
   "execution_count": 18,
   "metadata": {},
   "outputs": [
    {
     "data": {
      "text/plain": [
       "date         object\n",
       "species      object\n",
       "origin       object\n",
       "standard     object\n",
       "unit         object\n",
       "amount        int64\n",
       "weight        int64\n",
       "avg_price     int32\n",
       "dtype: object"
      ]
     },
     "execution_count": 18,
     "metadata": {},
     "output_type": "execute_result"
    }
   ],
   "source": [
    "df2.dtypes"
   ]
  },
  {
   "cell_type": "code",
   "execution_count": 19,
   "metadata": {},
   "outputs": [],
   "source": [
    "df = pd.concat([df1, df2], axis=0)"
   ]
  },
  {
   "cell_type": "code",
   "execution_count": 20,
   "metadata": {},
   "outputs": [
    {
     "name": "stdout",
     "output_type": "stream",
     "text": [
      "<class 'pandas.core.frame.DataFrame'>\n",
      "Int64Index: 35153 entries, 0 to 3087\n",
      "Data columns (total 8 columns):\n",
      " #   Column     Non-Null Count  Dtype  \n",
      "---  ------     --------------  -----  \n",
      " 0   date       35153 non-null  object \n",
      " 1   species    35153 non-null  object \n",
      " 2   origin     35153 non-null  object \n",
      " 3   standard   35153 non-null  object \n",
      " 4   unit       35153 non-null  object \n",
      " 5   amount     35153 non-null  int64  \n",
      " 6   weight     35153 non-null  float64\n",
      " 7   avg_price  35153 non-null  int32  \n",
      "dtypes: float64(1), int32(1), int64(1), object(5)\n",
      "memory usage: 2.3+ MB\n"
     ]
    }
   ],
   "source": [
    "df.info()"
   ]
  },
  {
   "cell_type": "markdown",
   "metadata": {},
   "source": [
    "### 날짜 데이터 년, 월, 일로 나누고 int형으로 변환"
   ]
  },
  {
   "cell_type": "code",
   "execution_count": 21,
   "metadata": {},
   "outputs": [],
   "source": [
    "df['yyyy'], df['mm'], df['dd'] = df['date'].str.split('-').str"
   ]
  },
  {
   "cell_type": "code",
   "execution_count": 22,
   "metadata": {},
   "outputs": [
    {
     "data": {
      "text/html": [
       "<div>\n",
       "<style scoped>\n",
       "    .dataframe tbody tr th:only-of-type {\n",
       "        vertical-align: middle;\n",
       "    }\n",
       "\n",
       "    .dataframe tbody tr th {\n",
       "        vertical-align: top;\n",
       "    }\n",
       "\n",
       "    .dataframe thead th {\n",
       "        text-align: right;\n",
       "    }\n",
       "</style>\n",
       "<table border=\"1\" class=\"dataframe\">\n",
       "  <thead>\n",
       "    <tr style=\"text-align: right;\">\n",
       "      <th></th>\n",
       "      <th>date</th>\n",
       "      <th>species</th>\n",
       "      <th>origin</th>\n",
       "      <th>standard</th>\n",
       "      <th>unit</th>\n",
       "      <th>amount</th>\n",
       "      <th>weight</th>\n",
       "      <th>avg_price</th>\n",
       "      <th>yyyy</th>\n",
       "      <th>mm</th>\n",
       "      <th>dd</th>\n",
       "    </tr>\n",
       "  </thead>\n",
       "  <tbody>\n",
       "    <tr>\n",
       "      <th>3083</th>\n",
       "      <td>2022-07-06</td>\n",
       "      <td>(활)전복</td>\n",
       "      <td>완도</td>\n",
       "      <td>20/21미</td>\n",
       "      <td>kg</td>\n",
       "      <td>12</td>\n",
       "      <td>1.0</td>\n",
       "      <td>14500</td>\n",
       "      <td>2022</td>\n",
       "      <td>07</td>\n",
       "      <td>06</td>\n",
       "    </tr>\n",
       "    <tr>\n",
       "      <th>3084</th>\n",
       "      <td>2022-07-06</td>\n",
       "      <td>(활)전복</td>\n",
       "      <td>완도</td>\n",
       "      <td>20미</td>\n",
       "      <td>kg</td>\n",
       "      <td>177</td>\n",
       "      <td>1.0</td>\n",
       "      <td>15400</td>\n",
       "      <td>2022</td>\n",
       "      <td>07</td>\n",
       "      <td>06</td>\n",
       "    </tr>\n",
       "    <tr>\n",
       "      <th>3085</th>\n",
       "      <td>2022-07-06</td>\n",
       "      <td>(활)전복</td>\n",
       "      <td>완도</td>\n",
       "      <td>22미</td>\n",
       "      <td>kg</td>\n",
       "      <td>93</td>\n",
       "      <td>1.0</td>\n",
       "      <td>16000</td>\n",
       "      <td>2022</td>\n",
       "      <td>07</td>\n",
       "      <td>06</td>\n",
       "    </tr>\n",
       "    <tr>\n",
       "      <th>3086</th>\n",
       "      <td>2022-07-06</td>\n",
       "      <td>(활)전복</td>\n",
       "      <td>완도</td>\n",
       "      <td>25미</td>\n",
       "      <td>kg</td>\n",
       "      <td>169</td>\n",
       "      <td>1.0</td>\n",
       "      <td>14100</td>\n",
       "      <td>2022</td>\n",
       "      <td>07</td>\n",
       "      <td>06</td>\n",
       "    </tr>\n",
       "    <tr>\n",
       "      <th>3087</th>\n",
       "      <td>2022-07-06</td>\n",
       "      <td>(활)전복</td>\n",
       "      <td>완도</td>\n",
       "      <td>30미</td>\n",
       "      <td>kg</td>\n",
       "      <td>125</td>\n",
       "      <td>1.0</td>\n",
       "      <td>13400</td>\n",
       "      <td>2022</td>\n",
       "      <td>07</td>\n",
       "      <td>06</td>\n",
       "    </tr>\n",
       "  </tbody>\n",
       "</table>\n",
       "</div>"
      ],
      "text/plain": [
       "            date species origin standard unit  amount  weight  avg_price  \\\n",
       "3083  2022-07-06   (활)전복     완도   20/21미   kg      12     1.0      14500   \n",
       "3084  2022-07-06   (활)전복     완도      20미   kg     177     1.0      15400   \n",
       "3085  2022-07-06   (활)전복     완도      22미   kg      93     1.0      16000   \n",
       "3086  2022-07-06   (활)전복     완도      25미   kg     169     1.0      14100   \n",
       "3087  2022-07-06   (활)전복     완도      30미   kg     125     1.0      13400   \n",
       "\n",
       "      yyyy  mm  dd  \n",
       "3083  2022  07  06  \n",
       "3084  2022  07  06  \n",
       "3085  2022  07  06  \n",
       "3086  2022  07  06  \n",
       "3087  2022  07  06  "
      ]
     },
     "execution_count": 22,
     "metadata": {},
     "output_type": "execute_result"
    }
   ],
   "source": [
    "df.tail()"
   ]
  },
  {
   "cell_type": "code",
   "execution_count": 23,
   "metadata": {},
   "outputs": [],
   "source": [
    "df = df.drop('date', axis=1)"
   ]
  },
  {
   "cell_type": "code",
   "execution_count": 24,
   "metadata": {},
   "outputs": [],
   "source": [
    "for i in ['yyyy', 'mm', 'dd']:\n",
    "  df[i] = list(map(int, df[i]))"
   ]
  },
  {
   "cell_type": "code",
   "execution_count": 25,
   "metadata": {},
   "outputs": [
    {
     "data": {
      "text/plain": [
       "species       object\n",
       "origin        object\n",
       "standard      object\n",
       "unit          object\n",
       "amount         int64\n",
       "weight       float64\n",
       "avg_price      int32\n",
       "yyyy           int64\n",
       "mm             int64\n",
       "dd             int64\n",
       "dtype: object"
      ]
     },
     "execution_count": 25,
     "metadata": {},
     "output_type": "execute_result"
    }
   ],
   "source": [
    "df.dtypes"
   ]
  },
  {
   "cell_type": "markdown",
   "metadata": {},
   "source": [
    "#### 년 / 월 / 일 별 가격변동"
   ]
  },
  {
   "cell_type": "code",
   "execution_count": 26,
   "metadata": {},
   "outputs": [
    {
     "data": {
      "text/html": [
       "<div>\n",
       "<style scoped>\n",
       "    .dataframe tbody tr th:only-of-type {\n",
       "        vertical-align: middle;\n",
       "    }\n",
       "\n",
       "    .dataframe tbody tr th {\n",
       "        vertical-align: top;\n",
       "    }\n",
       "\n",
       "    .dataframe thead th {\n",
       "        text-align: right;\n",
       "    }\n",
       "</style>\n",
       "<table border=\"1\" class=\"dataframe\">\n",
       "  <thead>\n",
       "    <tr style=\"text-align: right;\">\n",
       "      <th></th>\n",
       "      <th>amount</th>\n",
       "      <th>weight</th>\n",
       "      <th>avg_price</th>\n",
       "      <th>yyyy</th>\n",
       "      <th>dd</th>\n",
       "    </tr>\n",
       "    <tr>\n",
       "      <th>mm</th>\n",
       "      <th></th>\n",
       "      <th></th>\n",
       "      <th></th>\n",
       "      <th></th>\n",
       "      <th></th>\n",
       "    </tr>\n",
       "  </thead>\n",
       "  <tbody>\n",
       "    <tr>\n",
       "      <th>1</th>\n",
       "      <td>84.827321</td>\n",
       "      <td>1.000000</td>\n",
       "      <td>25774.017025</td>\n",
       "      <td>2019.007702</td>\n",
       "      <td>15.979327</td>\n",
       "    </tr>\n",
       "    <tr>\n",
       "      <th>2</th>\n",
       "      <td>76.761220</td>\n",
       "      <td>1.000000</td>\n",
       "      <td>24723.137255</td>\n",
       "      <td>2018.986928</td>\n",
       "      <td>14.709804</td>\n",
       "    </tr>\n",
       "    <tr>\n",
       "      <th>3</th>\n",
       "      <td>80.012406</td>\n",
       "      <td>1.017594</td>\n",
       "      <td>23336.842105</td>\n",
       "      <td>2018.992481</td>\n",
       "      <td>16.015038</td>\n",
       "    </tr>\n",
       "    <tr>\n",
       "      <th>4</th>\n",
       "      <td>89.368750</td>\n",
       "      <td>1.028906</td>\n",
       "      <td>22221.835938</td>\n",
       "      <td>2019.023438</td>\n",
       "      <td>15.468750</td>\n",
       "    </tr>\n",
       "    <tr>\n",
       "      <th>5</th>\n",
       "      <td>96.551128</td>\n",
       "      <td>1.013759</td>\n",
       "      <td>22057.781955</td>\n",
       "      <td>2018.977444</td>\n",
       "      <td>15.917293</td>\n",
       "    </tr>\n",
       "    <tr>\n",
       "      <th>6</th>\n",
       "      <td>107.539695</td>\n",
       "      <td>1.014504</td>\n",
       "      <td>21518.587786</td>\n",
       "      <td>2018.984733</td>\n",
       "      <td>15.694656</td>\n",
       "    </tr>\n",
       "    <tr>\n",
       "      <th>7</th>\n",
       "      <td>132.154248</td>\n",
       "      <td>1.025359</td>\n",
       "      <td>21167.058824</td>\n",
       "      <td>2018.856209</td>\n",
       "      <td>15.607843</td>\n",
       "    </tr>\n",
       "    <tr>\n",
       "      <th>8</th>\n",
       "      <td>101.655937</td>\n",
       "      <td>1.005625</td>\n",
       "      <td>21458.406250</td>\n",
       "      <td>2018.812500</td>\n",
       "      <td>16.081250</td>\n",
       "    </tr>\n",
       "    <tr>\n",
       "      <th>9</th>\n",
       "      <td>98.355493</td>\n",
       "      <td>1.028341</td>\n",
       "      <td>23956.927922</td>\n",
       "      <td>2018.825752</td>\n",
       "      <td>15.029391</td>\n",
       "    </tr>\n",
       "    <tr>\n",
       "      <th>10</th>\n",
       "      <td>78.966693</td>\n",
       "      <td>1.000000</td>\n",
       "      <td>26507.216495</td>\n",
       "      <td>2019.011499</td>\n",
       "      <td>16.511499</td>\n",
       "    </tr>\n",
       "    <tr>\n",
       "      <th>11</th>\n",
       "      <td>81.145333</td>\n",
       "      <td>1.011422</td>\n",
       "      <td>25619.259551</td>\n",
       "      <td>2018.961796</td>\n",
       "      <td>15.457267</td>\n",
       "    </tr>\n",
       "    <tr>\n",
       "      <th>12</th>\n",
       "      <td>77.896341</td>\n",
       "      <td>1.007508</td>\n",
       "      <td>25624.771341</td>\n",
       "      <td>2019.011433</td>\n",
       "      <td>16.046875</td>\n",
       "    </tr>\n",
       "  </tbody>\n",
       "</table>\n",
       "</div>"
      ],
      "text/plain": [
       "        amount    weight     avg_price         yyyy         dd\n",
       "mm                                                            \n",
       "1    84.827321  1.000000  25774.017025  2019.007702  15.979327\n",
       "2    76.761220  1.000000  24723.137255  2018.986928  14.709804\n",
       "3    80.012406  1.017594  23336.842105  2018.992481  16.015038\n",
       "4    89.368750  1.028906  22221.835938  2019.023438  15.468750\n",
       "5    96.551128  1.013759  22057.781955  2018.977444  15.917293\n",
       "6   107.539695  1.014504  21518.587786  2018.984733  15.694656\n",
       "7   132.154248  1.025359  21167.058824  2018.856209  15.607843\n",
       "8   101.655937  1.005625  21458.406250  2018.812500  16.081250\n",
       "9    98.355493  1.028341  23956.927922  2018.825752  15.029391\n",
       "10   78.966693  1.000000  26507.216495  2019.011499  16.511499\n",
       "11   81.145333  1.011422  25619.259551  2018.961796  15.457267\n",
       "12   77.896341  1.007508  25624.771341  2019.011433  16.046875"
      ]
     },
     "execution_count": 26,
     "metadata": {},
     "output_type": "execute_result"
    }
   ],
   "source": [
    "df[df.yyyy != 2022].groupby('mm').mean()"
   ]
  },
  {
   "cell_type": "code",
   "execution_count": 27,
   "metadata": {},
   "outputs": [
    {
     "data": {
      "text/plain": [
       "<AxesSubplot:xlabel='dd'>"
      ]
     },
     "execution_count": 27,
     "metadata": {},
     "output_type": "execute_result"
    },
    {
     "data": {
      "image/png": "[encoded data removed]",
      "text/plain": [
       "<Figure size 720x360 with 3 Axes>"
      ]
     },
     "metadata": {
      "needs_background": "light"
     },
     "output_type": "display_data"
    }
   ],
   "source": [
    "plt.figure(figsize=(10, 5))\n",
    "\n",
    "plt.subplot(131)\n",
    "Years = df.groupby('yyyy').mean()\n",
    "Years['avg_price'].plot(x=df.yyyy)\n",
    "plt.subplot(132)\n",
    "# Months = df[df.yyyy != 2022].groupby('mm').mean()\n",
    "Months = df.groupby('mm').mean()\n",
    "Months['avg_price'].plot(x=df.mm)\n",
    "plt.subplot(133)\n",
    "Days = df.groupby('dd').mean()\n",
    "Days['avg_price'].plot(x=df.dd)"
   ]
  },
  {
   "cell_type": "markdown",
   "metadata": {},
   "source": [
    "#### 산지별 가격분포"
   ]
  },
  {
   "cell_type": "code",
   "execution_count": 28,
   "metadata": {},
   "outputs": [
    {
     "data": {
      "text/plain": [
       "Text(0, 0.5, 'origin')"
      ]
     },
     "execution_count": 28,
     "metadata": {},
     "output_type": "execute_result"
    },
    {
     "data": {
      "image/png": "[encoded data removed]",
      "text/plain": [
       "<Figure size 720x1080 with 1 Axes>"
      ]
     },
     "metadata": {
      "needs_background": "light"
     },
     "output_type": "display_data"
    }
   ],
   "source": [
    "plt.rcParams['font.family']= 'Malgun Gothic'\n",
    "\n",
    "plt.figure(figsize=(10, 15))\n",
    "sns.pointplot(x='avg_price', y='origin', data=df, join=False)\n",
    "plt.xticks(np.linspace(1, 2, 5))\n",
    "plt.xlabel('Average Price')\n",
    "plt.ylabel('origin')"
   ]
  },
  {
   "cell_type": "code",
   "execution_count": 29,
   "metadata": {},
   "outputs": [],
   "source": [
    "jb_pdf = df[df.species=='(활)전복']"
   ]
  },
  {
   "cell_type": "code",
   "execution_count": 30,
   "metadata": {},
   "outputs": [
    {
     "data": {
      "text/plain": [
       "Text(0, 0.5, 'origin')"
      ]
     },
     "execution_count": 30,
     "metadata": {},
     "output_type": "execute_result"
    },
    {
     "data": {
      "image/png": "[encoded data removed]",
      "text/plain": [
       "<Figure size 720x1080 with 1 Axes>"
      ]
     },
     "metadata": {
      "needs_background": "light"
     },
     "output_type": "display_data"
    }
   ],
   "source": [
    "plt.rcParams['font.family']= 'Malgun Gothic'\n",
    "\n",
    "plt.figure(figsize=(10, 15))\n",
    "sns.pointplot(x='avg_price', y='origin', data=jb_pdf, join=False)\n",
    "plt.xticks(np.linspace(1, 2, 5))\n",
    "plt.xlabel('Average Price')\n",
    "plt.ylabel('origin')"
   ]
  },
  {
   "cell_type": "code",
   "execution_count": 31,
   "metadata": {},
   "outputs": [
    {
     "data": {
      "text/html": [
       "<div>\n",
       "<style scoped>\n",
       "    .dataframe tbody tr th:only-of-type {\n",
       "        vertical-align: middle;\n",
       "    }\n",
       "\n",
       "    .dataframe tbody tr th {\n",
       "        vertical-align: top;\n",
       "    }\n",
       "\n",
       "    .dataframe thead th {\n",
       "        text-align: right;\n",
       "    }\n",
       "</style>\n",
       "<table border=\"1\" class=\"dataframe\">\n",
       "  <thead>\n",
       "    <tr style=\"text-align: right;\">\n",
       "      <th></th>\n",
       "      <th>species</th>\n",
       "      <th>origin</th>\n",
       "      <th>standard</th>\n",
       "      <th>unit</th>\n",
       "      <th>amount</th>\n",
       "      <th>weight</th>\n",
       "      <th>avg_price</th>\n",
       "      <th>yyyy</th>\n",
       "      <th>mm</th>\n",
       "      <th>dd</th>\n",
       "    </tr>\n",
       "  </thead>\n",
       "  <tbody>\n",
       "    <tr>\n",
       "      <th>0</th>\n",
       "      <td>(활)전복</td>\n",
       "      <td>완도</td>\n",
       "      <td>10/11미</td>\n",
       "      <td>kg</td>\n",
       "      <td>78</td>\n",
       "      <td>1.0</td>\n",
       "      <td>43100</td>\n",
       "      <td>2017</td>\n",
       "      <td>1</td>\n",
       "      <td>2</td>\n",
       "    </tr>\n",
       "    <tr>\n",
       "      <th>1</th>\n",
       "      <td>(활)전복</td>\n",
       "      <td>완도</td>\n",
       "      <td>11/12미</td>\n",
       "      <td>kg</td>\n",
       "      <td>33</td>\n",
       "      <td>1.0</td>\n",
       "      <td>40200</td>\n",
       "      <td>2017</td>\n",
       "      <td>1</td>\n",
       "      <td>2</td>\n",
       "    </tr>\n",
       "    <tr>\n",
       "      <th>2</th>\n",
       "      <td>(활)전복</td>\n",
       "      <td>완도</td>\n",
       "      <td>12/13미</td>\n",
       "      <td>kg</td>\n",
       "      <td>145</td>\n",
       "      <td>1.0</td>\n",
       "      <td>37700</td>\n",
       "      <td>2017</td>\n",
       "      <td>1</td>\n",
       "      <td>2</td>\n",
       "    </tr>\n",
       "    <tr>\n",
       "      <th>3</th>\n",
       "      <td>(활)전복</td>\n",
       "      <td>완도</td>\n",
       "      <td>12미</td>\n",
       "      <td>kg</td>\n",
       "      <td>35</td>\n",
       "      <td>1.0</td>\n",
       "      <td>35000</td>\n",
       "      <td>2017</td>\n",
       "      <td>1</td>\n",
       "      <td>2</td>\n",
       "    </tr>\n",
       "    <tr>\n",
       "      <th>4</th>\n",
       "      <td>(활)전복</td>\n",
       "      <td>완도</td>\n",
       "      <td>13/14미</td>\n",
       "      <td>kg</td>\n",
       "      <td>124</td>\n",
       "      <td>1.0</td>\n",
       "      <td>36100</td>\n",
       "      <td>2017</td>\n",
       "      <td>1</td>\n",
       "      <td>2</td>\n",
       "    </tr>\n",
       "  </tbody>\n",
       "</table>\n",
       "</div>"
      ],
      "text/plain": [
       "  species origin standard unit  amount  weight  avg_price  yyyy  mm  dd\n",
       "0   (활)전복     완도   10/11미   kg      78     1.0      43100  2017   1   2\n",
       "1   (활)전복     완도   11/12미   kg      33     1.0      40200  2017   1   2\n",
       "2   (활)전복     완도   12/13미   kg     145     1.0      37700  2017   1   2\n",
       "3   (활)전복     완도      12미   kg      35     1.0      35000  2017   1   2\n",
       "4   (활)전복     완도   13/14미   kg     124     1.0      36100  2017   1   2"
      ]
     },
     "execution_count": 31,
     "metadata": {},
     "output_type": "execute_result"
    }
   ],
   "source": [
    "jb_pdf.head()"
   ]
  },
  {
   "cell_type": "code",
   "execution_count": 32,
   "metadata": {},
   "outputs": [
    {
     "data": {
      "text/plain": [
       "34602"
      ]
     },
     "execution_count": 32,
     "metadata": {},
     "output_type": "execute_result"
    }
   ],
   "source": [
    "jb_pdf['origin'].count()"
   ]
  },
  {
   "cell_type": "code",
   "execution_count": 33,
   "metadata": {},
   "outputs": [
    {
     "data": {
      "text/plain": [
       "완도     34388\n",
       "서산        48\n",
       "여수        41\n",
       "대천        35\n",
       "군산        30\n",
       "격포        13\n",
       "안흥        12\n",
       "안면도        8\n",
       "보령         6\n",
       "연평도        6\n",
       "마산         5\n",
       "부안         4\n",
       "고흥         4\n",
       "중국         1\n",
       "속초         1\n",
       "Name: origin, dtype: int64"
      ]
     },
     "execution_count": 33,
     "metadata": {},
     "output_type": "execute_result"
    }
   ],
   "source": [
    "jb_pdf['origin'].value_counts()"
   ]
  },
  {
   "cell_type": "markdown",
   "metadata": {},
   "source": [
    "### 10자리 이하를 제외한 완도, 서산, 여수, 대천, 군산만을 쿼리\n",
    "-> 완도가 압도적으로 많이 차지하고 있어서 데이터 크게 편향적일 수 있음"
   ]
  },
  {
   "cell_type": "code",
   "execution_count": 34,
   "metadata": {},
   "outputs": [],
   "source": [
    "origin_mask = (jb_pdf.origin == '완도')|(jb_pdf.origin == '서산')|(jb_pdf.origin == '여수')|(jb_pdf.origin == '대천')|(jb_pdf.origin == '군산')\n",
    "\n",
    "jb_pdf = jb_pdf.loc[origin_mask, :]"
   ]
  },
  {
   "cell_type": "code",
   "execution_count": 35,
   "metadata": {},
   "outputs": [
    {
     "data": {
      "text/plain": [
       "완도    34388\n",
       "서산       48\n",
       "여수       41\n",
       "대천       35\n",
       "군산       30\n",
       "Name: origin, dtype: int64"
      ]
     },
     "execution_count": 35,
     "metadata": {},
     "output_type": "execute_result"
    }
   ],
   "source": [
    "jb_pdf['origin'].value_counts()"
   ]
  },
  {
   "cell_type": "code",
   "execution_count": 36,
   "metadata": {},
   "outputs": [
    {
     "data": {
      "text/plain": [
       "12/13미    1774\n",
       "13/14미    1764\n",
       "14/15미    1750\n",
       "15/16미    1745\n",
       "17/18미    1739\n",
       "          ... \n",
       "37미          1\n",
       "14코          1\n",
       "120미         1\n",
       "10/12        1\n",
       "소소           1\n",
       "Name: standard, Length: 104, dtype: int64"
      ]
     },
     "execution_count": 36,
     "metadata": {},
     "output_type": "execute_result"
    }
   ],
   "source": [
    "jb_pdf['standard'].value_counts()"
   ]
  },
  {
   "cell_type": "code",
   "execution_count": 37,
   "metadata": {},
   "outputs": [
    {
     "data": {
      "text/html": [
       "<div>\n",
       "<style scoped>\n",
       "    .dataframe tbody tr th:only-of-type {\n",
       "        vertical-align: middle;\n",
       "    }\n",
       "\n",
       "    .dataframe tbody tr th {\n",
       "        vertical-align: top;\n",
       "    }\n",
       "\n",
       "    .dataframe thead th {\n",
       "        text-align: right;\n",
       "    }\n",
       "</style>\n",
       "<table border=\"1\" class=\"dataframe\">\n",
       "  <thead>\n",
       "    <tr style=\"text-align: right;\">\n",
       "      <th></th>\n",
       "      <th>species</th>\n",
       "      <th>origin</th>\n",
       "      <th>standard</th>\n",
       "      <th>unit</th>\n",
       "      <th>amount</th>\n",
       "      <th>weight</th>\n",
       "      <th>avg_price</th>\n",
       "      <th>yyyy</th>\n",
       "      <th>mm</th>\n",
       "      <th>dd</th>\n",
       "    </tr>\n",
       "  </thead>\n",
       "  <tbody>\n",
       "    <tr>\n",
       "      <th>2</th>\n",
       "      <td>(활)전복</td>\n",
       "      <td>완도</td>\n",
       "      <td>12/13미</td>\n",
       "      <td>kg</td>\n",
       "      <td>145</td>\n",
       "      <td>1.0</td>\n",
       "      <td>37700</td>\n",
       "      <td>2017</td>\n",
       "      <td>1</td>\n",
       "      <td>2</td>\n",
       "    </tr>\n",
       "    <tr>\n",
       "      <th>23</th>\n",
       "      <td>(활)전복</td>\n",
       "      <td>완도</td>\n",
       "      <td>12/13미</td>\n",
       "      <td>kg</td>\n",
       "      <td>181</td>\n",
       "      <td>1.0</td>\n",
       "      <td>34900</td>\n",
       "      <td>2017</td>\n",
       "      <td>1</td>\n",
       "      <td>3</td>\n",
       "    </tr>\n",
       "    <tr>\n",
       "      <th>45</th>\n",
       "      <td>(활)전복</td>\n",
       "      <td>완도</td>\n",
       "      <td>12/13미</td>\n",
       "      <td>kg</td>\n",
       "      <td>144</td>\n",
       "      <td>1.0</td>\n",
       "      <td>33900</td>\n",
       "      <td>2017</td>\n",
       "      <td>1</td>\n",
       "      <td>4</td>\n",
       "    </tr>\n",
       "    <tr>\n",
       "      <th>64</th>\n",
       "      <td>(활)전복</td>\n",
       "      <td>완도</td>\n",
       "      <td>12/13미</td>\n",
       "      <td>kg</td>\n",
       "      <td>311</td>\n",
       "      <td>1.0</td>\n",
       "      <td>30300</td>\n",
       "      <td>2017</td>\n",
       "      <td>1</td>\n",
       "      <td>5</td>\n",
       "    </tr>\n",
       "    <tr>\n",
       "      <th>85</th>\n",
       "      <td>(활)전복</td>\n",
       "      <td>완도</td>\n",
       "      <td>12/13미</td>\n",
       "      <td>kg</td>\n",
       "      <td>152</td>\n",
       "      <td>1.0</td>\n",
       "      <td>31000</td>\n",
       "      <td>2017</td>\n",
       "      <td>1</td>\n",
       "      <td>6</td>\n",
       "    </tr>\n",
       "    <tr>\n",
       "      <th>...</th>\n",
       "      <td>...</td>\n",
       "      <td>...</td>\n",
       "      <td>...</td>\n",
       "      <td>...</td>\n",
       "      <td>...</td>\n",
       "      <td>...</td>\n",
       "      <td>...</td>\n",
       "      <td>...</td>\n",
       "      <td>...</td>\n",
       "      <td>...</td>\n",
       "    </tr>\n",
       "    <tr>\n",
       "      <th>2991</th>\n",
       "      <td>(활)전복</td>\n",
       "      <td>완도</td>\n",
       "      <td>12/13미</td>\n",
       "      <td>kg</td>\n",
       "      <td>199</td>\n",
       "      <td>1.0</td>\n",
       "      <td>21100</td>\n",
       "      <td>2022</td>\n",
       "      <td>7</td>\n",
       "      <td>1</td>\n",
       "    </tr>\n",
       "    <tr>\n",
       "      <th>3011</th>\n",
       "      <td>(활)전복</td>\n",
       "      <td>완도</td>\n",
       "      <td>12/13미</td>\n",
       "      <td>kg</td>\n",
       "      <td>130</td>\n",
       "      <td>1.0</td>\n",
       "      <td>21500</td>\n",
       "      <td>2022</td>\n",
       "      <td>7</td>\n",
       "      <td>2</td>\n",
       "    </tr>\n",
       "    <tr>\n",
       "      <th>3031</th>\n",
       "      <td>(활)전복</td>\n",
       "      <td>완도</td>\n",
       "      <td>12/13미</td>\n",
       "      <td>kg</td>\n",
       "      <td>336</td>\n",
       "      <td>1.0</td>\n",
       "      <td>20800</td>\n",
       "      <td>2022</td>\n",
       "      <td>7</td>\n",
       "      <td>4</td>\n",
       "    </tr>\n",
       "    <tr>\n",
       "      <th>3050</th>\n",
       "      <td>(활)전복</td>\n",
       "      <td>완도</td>\n",
       "      <td>12/13미</td>\n",
       "      <td>kg</td>\n",
       "      <td>126</td>\n",
       "      <td>1.0</td>\n",
       "      <td>18100</td>\n",
       "      <td>2022</td>\n",
       "      <td>7</td>\n",
       "      <td>5</td>\n",
       "    </tr>\n",
       "    <tr>\n",
       "      <th>3071</th>\n",
       "      <td>(활)전복</td>\n",
       "      <td>완도</td>\n",
       "      <td>12/13미</td>\n",
       "      <td>kg</td>\n",
       "      <td>296</td>\n",
       "      <td>1.0</td>\n",
       "      <td>19500</td>\n",
       "      <td>2022</td>\n",
       "      <td>7</td>\n",
       "      <td>6</td>\n",
       "    </tr>\n",
       "  </tbody>\n",
       "</table>\n",
       "<p>1774 rows × 10 columns</p>\n",
       "</div>"
      ],
      "text/plain": [
       "     species origin standard unit  amount  weight  avg_price  yyyy  mm  dd\n",
       "2      (활)전복     완도   12/13미   kg     145     1.0      37700  2017   1   2\n",
       "23     (활)전복     완도   12/13미   kg     181     1.0      34900  2017   1   3\n",
       "45     (활)전복     완도   12/13미   kg     144     1.0      33900  2017   1   4\n",
       "64     (활)전복     완도   12/13미   kg     311     1.0      30300  2017   1   5\n",
       "85     (활)전복     완도   12/13미   kg     152     1.0      31000  2017   1   6\n",
       "...      ...    ...      ...  ...     ...     ...        ...   ...  ..  ..\n",
       "2991   (활)전복     완도   12/13미   kg     199     1.0      21100  2022   7   1\n",
       "3011   (활)전복     완도   12/13미   kg     130     1.0      21500  2022   7   2\n",
       "3031   (활)전복     완도   12/13미   kg     336     1.0      20800  2022   7   4\n",
       "3050   (활)전복     완도   12/13미   kg     126     1.0      18100  2022   7   5\n",
       "3071   (활)전복     완도   12/13미   kg     296     1.0      19500  2022   7   6\n",
       "\n",
       "[1774 rows x 10 columns]"
      ]
     },
     "execution_count": 37,
     "metadata": {},
     "output_type": "execute_result"
    }
   ],
   "source": [
    "jb_pdf[jb_pdf.standard=='12/13미']"
   ]
  },
  {
   "cell_type": "code",
   "execution_count": 38,
   "metadata": {},
   "outputs": [],
   "source": [
    "standard_mask = (jb_pdf.standard == '12/13미')|(jb_pdf.standard == '13/14미')|(jb_pdf.standard == '14/15미')|(jb_pdf.standard == '15/16미')\n",
    "\n",
    "\n",
    "jb_pdf = jb_pdf.loc[standard_mask, :]"
   ]
  },
  {
   "cell_type": "code",
   "execution_count": 39,
   "metadata": {},
   "outputs": [
    {
     "data": {
      "text/plain": [
       "12/13미    1774\n",
       "13/14미    1764\n",
       "14/15미    1750\n",
       "15/16미    1745\n",
       "Name: standard, dtype: int64"
      ]
     },
     "execution_count": 39,
     "metadata": {},
     "output_type": "execute_result"
    }
   ],
   "source": [
    "jb_pdf['standard'].value_counts()"
   ]
  },
  {
   "cell_type": "markdown",
   "metadata": {},
   "source": [
    "#### 추려낸 위 규격에서 가장 많은 포장을 차지하는 kg 포장으로 단일화"
   ]
  },
  {
   "cell_type": "code",
   "execution_count": 40,
   "metadata": {},
   "outputs": [
    {
     "data": {
      "text/plain": [
       "kg     7000\n",
       "S/P      15\n",
       "가구       11\n",
       "box       7\n",
       "Name: unit, dtype: int64"
      ]
     },
     "execution_count": 40,
     "metadata": {},
     "output_type": "execute_result"
    }
   ],
   "source": [
    "jb_pdf['unit'].value_counts()"
   ]
  },
  {
   "cell_type": "code",
   "execution_count": 41,
   "metadata": {},
   "outputs": [],
   "source": [
    "jb_pdf = jb_pdf[jb_pdf.unit == 'kg']"
   ]
  },
  {
   "cell_type": "code",
   "execution_count": 42,
   "metadata": {},
   "outputs": [
    {
     "data": {
      "text/html": [
       "<div>\n",
       "<style scoped>\n",
       "    .dataframe tbody tr th:only-of-type {\n",
       "        vertical-align: middle;\n",
       "    }\n",
       "\n",
       "    .dataframe tbody tr th {\n",
       "        vertical-align: top;\n",
       "    }\n",
       "\n",
       "    .dataframe thead th {\n",
       "        text-align: right;\n",
       "    }\n",
       "</style>\n",
       "<table border=\"1\" class=\"dataframe\">\n",
       "  <thead>\n",
       "    <tr style=\"text-align: right;\">\n",
       "      <th></th>\n",
       "      <th>species</th>\n",
       "      <th>origin</th>\n",
       "      <th>standard</th>\n",
       "      <th>unit</th>\n",
       "      <th>amount</th>\n",
       "      <th>weight</th>\n",
       "      <th>avg_price</th>\n",
       "      <th>yyyy</th>\n",
       "      <th>mm</th>\n",
       "      <th>dd</th>\n",
       "    </tr>\n",
       "  </thead>\n",
       "  <tbody>\n",
       "    <tr>\n",
       "      <th>2</th>\n",
       "      <td>(활)전복</td>\n",
       "      <td>완도</td>\n",
       "      <td>12/13미</td>\n",
       "      <td>kg</td>\n",
       "      <td>145</td>\n",
       "      <td>1.0</td>\n",
       "      <td>37700</td>\n",
       "      <td>2017</td>\n",
       "      <td>1</td>\n",
       "      <td>2</td>\n",
       "    </tr>\n",
       "    <tr>\n",
       "      <th>4</th>\n",
       "      <td>(활)전복</td>\n",
       "      <td>완도</td>\n",
       "      <td>13/14미</td>\n",
       "      <td>kg</td>\n",
       "      <td>124</td>\n",
       "      <td>1.0</td>\n",
       "      <td>36100</td>\n",
       "      <td>2017</td>\n",
       "      <td>1</td>\n",
       "      <td>2</td>\n",
       "    </tr>\n",
       "    <tr>\n",
       "      <th>5</th>\n",
       "      <td>(활)전복</td>\n",
       "      <td>완도</td>\n",
       "      <td>14/15미</td>\n",
       "      <td>kg</td>\n",
       "      <td>99</td>\n",
       "      <td>1.0</td>\n",
       "      <td>35000</td>\n",
       "      <td>2017</td>\n",
       "      <td>1</td>\n",
       "      <td>2</td>\n",
       "    </tr>\n",
       "  </tbody>\n",
       "</table>\n",
       "</div>"
      ],
      "text/plain": [
       "  species origin standard unit  amount  weight  avg_price  yyyy  mm  dd\n",
       "2   (활)전복     완도   12/13미   kg     145     1.0      37700  2017   1   2\n",
       "4   (활)전복     완도   13/14미   kg     124     1.0      36100  2017   1   2\n",
       "5   (활)전복     완도   14/15미   kg      99     1.0      35000  2017   1   2"
      ]
     },
     "execution_count": 42,
     "metadata": {},
     "output_type": "execute_result"
    }
   ],
   "source": [
    "jb_pdf.head(3)"
   ]
  },
  {
   "cell_type": "code",
   "execution_count": 43,
   "metadata": {},
   "outputs": [
    {
     "data": {
      "text/html": [
       "<div>\n",
       "<style scoped>\n",
       "    .dataframe tbody tr th:only-of-type {\n",
       "        vertical-align: middle;\n",
       "    }\n",
       "\n",
       "    .dataframe tbody tr th {\n",
       "        vertical-align: top;\n",
       "    }\n",
       "\n",
       "    .dataframe thead th {\n",
       "        text-align: right;\n",
       "    }\n",
       "</style>\n",
       "<table border=\"1\" class=\"dataframe\">\n",
       "  <thead>\n",
       "    <tr style=\"text-align: right;\">\n",
       "      <th></th>\n",
       "      <th>species</th>\n",
       "      <th>origin</th>\n",
       "      <th>standard</th>\n",
       "      <th>unit</th>\n",
       "      <th>amount</th>\n",
       "      <th>weight</th>\n",
       "      <th>avg_price</th>\n",
       "      <th>yyyy</th>\n",
       "      <th>mm</th>\n",
       "      <th>dd</th>\n",
       "    </tr>\n",
       "  </thead>\n",
       "  <tbody>\n",
       "  </tbody>\n",
       "</table>\n",
       "</div>"
      ],
      "text/plain": [
       "Empty DataFrame\n",
       "Columns: [species, origin, standard, unit, amount, weight, avg_price, yyyy, mm, dd]\n",
       "Index: []"
      ]
     },
     "execution_count": 43,
     "metadata": {},
     "output_type": "execute_result"
    }
   ],
   "source": [
    "jb_pdf[jb_pdf.unit != 'kg']"
   ]
  },
  {
   "cell_type": "code",
   "execution_count": 44,
   "metadata": {},
   "outputs": [
    {
     "data": {
      "text/html": [
       "<div>\n",
       "<style scoped>\n",
       "    .dataframe tbody tr th:only-of-type {\n",
       "        vertical-align: middle;\n",
       "    }\n",
       "\n",
       "    .dataframe tbody tr th {\n",
       "        vertical-align: top;\n",
       "    }\n",
       "\n",
       "    .dataframe thead th {\n",
       "        text-align: right;\n",
       "    }\n",
       "</style>\n",
       "<table border=\"1\" class=\"dataframe\">\n",
       "  <thead>\n",
       "    <tr style=\"text-align: right;\">\n",
       "      <th></th>\n",
       "      <th>origin</th>\n",
       "      <th>standard</th>\n",
       "      <th>amount</th>\n",
       "      <th>weight</th>\n",
       "      <th>avg_price</th>\n",
       "      <th>yyyy</th>\n",
       "      <th>mm</th>\n",
       "      <th>dd</th>\n",
       "    </tr>\n",
       "  </thead>\n",
       "  <tbody>\n",
       "    <tr>\n",
       "      <th>2</th>\n",
       "      <td>완도</td>\n",
       "      <td>12/13미</td>\n",
       "      <td>145</td>\n",
       "      <td>1.0</td>\n",
       "      <td>37700</td>\n",
       "      <td>2017</td>\n",
       "      <td>1</td>\n",
       "      <td>2</td>\n",
       "    </tr>\n",
       "    <tr>\n",
       "      <th>4</th>\n",
       "      <td>완도</td>\n",
       "      <td>13/14미</td>\n",
       "      <td>124</td>\n",
       "      <td>1.0</td>\n",
       "      <td>36100</td>\n",
       "      <td>2017</td>\n",
       "      <td>1</td>\n",
       "      <td>2</td>\n",
       "    </tr>\n",
       "    <tr>\n",
       "      <th>5</th>\n",
       "      <td>완도</td>\n",
       "      <td>14/15미</td>\n",
       "      <td>99</td>\n",
       "      <td>1.0</td>\n",
       "      <td>35000</td>\n",
       "      <td>2017</td>\n",
       "      <td>1</td>\n",
       "      <td>2</td>\n",
       "    </tr>\n",
       "    <tr>\n",
       "      <th>7</th>\n",
       "      <td>완도</td>\n",
       "      <td>15/16미</td>\n",
       "      <td>33</td>\n",
       "      <td>1.0</td>\n",
       "      <td>35700</td>\n",
       "      <td>2017</td>\n",
       "      <td>1</td>\n",
       "      <td>2</td>\n",
       "    </tr>\n",
       "    <tr>\n",
       "      <th>23</th>\n",
       "      <td>완도</td>\n",
       "      <td>12/13미</td>\n",
       "      <td>181</td>\n",
       "      <td>1.0</td>\n",
       "      <td>34900</td>\n",
       "      <td>2017</td>\n",
       "      <td>1</td>\n",
       "      <td>3</td>\n",
       "    </tr>\n",
       "  </tbody>\n",
       "</table>\n",
       "</div>"
      ],
      "text/plain": [
       "   origin standard  amount  weight  avg_price  yyyy  mm  dd\n",
       "2      완도   12/13미     145     1.0      37700  2017   1   2\n",
       "4      완도   13/14미     124     1.0      36100  2017   1   2\n",
       "5      완도   14/15미      99     1.0      35000  2017   1   2\n",
       "7      완도   15/16미      33     1.0      35700  2017   1   2\n",
       "23     완도   12/13미     181     1.0      34900  2017   1   3"
      ]
     },
     "execution_count": 44,
     "metadata": {},
     "output_type": "execute_result"
    }
   ],
   "source": [
    "jb_pdf = jb_pdf.drop(['species', 'unit'], axis=1)\n",
    "\n",
    "jb_pdf.head()"
   ]
  },
  {
   "cell_type": "markdown",
   "metadata": {},
   "source": [
    "### 범주형 데이터 OHE 수행"
   ]
  },
  {
   "cell_type": "code",
   "execution_count": 45,
   "metadata": {},
   "outputs": [],
   "source": [
    "jb_pdf = pd.get_dummies(jb_pdf, columns=['origin', 'standard'])"
   ]
  },
  {
   "cell_type": "code",
   "execution_count": 46,
   "metadata": {},
   "outputs": [
    {
     "data": {
      "text/html": [
       "<div>\n",
       "<style scoped>\n",
       "    .dataframe tbody tr th:only-of-type {\n",
       "        vertical-align: middle;\n",
       "    }\n",
       "\n",
       "    .dataframe tbody tr th {\n",
       "        vertical-align: top;\n",
       "    }\n",
       "\n",
       "    .dataframe thead th {\n",
       "        text-align: right;\n",
       "    }\n",
       "</style>\n",
       "<table border=\"1\" class=\"dataframe\">\n",
       "  <thead>\n",
       "    <tr style=\"text-align: right;\">\n",
       "      <th></th>\n",
       "      <th>amount</th>\n",
       "      <th>weight</th>\n",
       "      <th>avg_price</th>\n",
       "      <th>yyyy</th>\n",
       "      <th>mm</th>\n",
       "      <th>dd</th>\n",
       "      <th>origin_군산</th>\n",
       "      <th>origin_대천</th>\n",
       "      <th>origin_완도</th>\n",
       "      <th>standard_12/13미</th>\n",
       "      <th>standard_13/14미</th>\n",
       "      <th>standard_14/15미</th>\n",
       "      <th>standard_15/16미</th>\n",
       "    </tr>\n",
       "  </thead>\n",
       "  <tbody>\n",
       "    <tr>\n",
       "      <th>2</th>\n",
       "      <td>145</td>\n",
       "      <td>1.0</td>\n",
       "      <td>37700</td>\n",
       "      <td>2017</td>\n",
       "      <td>1</td>\n",
       "      <td>2</td>\n",
       "      <td>0</td>\n",
       "      <td>0</td>\n",
       "      <td>1</td>\n",
       "      <td>1</td>\n",
       "      <td>0</td>\n",
       "      <td>0</td>\n",
       "      <td>0</td>\n",
       "    </tr>\n",
       "    <tr>\n",
       "      <th>4</th>\n",
       "      <td>124</td>\n",
       "      <td>1.0</td>\n",
       "      <td>36100</td>\n",
       "      <td>2017</td>\n",
       "      <td>1</td>\n",
       "      <td>2</td>\n",
       "      <td>0</td>\n",
       "      <td>0</td>\n",
       "      <td>1</td>\n",
       "      <td>0</td>\n",
       "      <td>1</td>\n",
       "      <td>0</td>\n",
       "      <td>0</td>\n",
       "    </tr>\n",
       "    <tr>\n",
       "      <th>5</th>\n",
       "      <td>99</td>\n",
       "      <td>1.0</td>\n",
       "      <td>35000</td>\n",
       "      <td>2017</td>\n",
       "      <td>1</td>\n",
       "      <td>2</td>\n",
       "      <td>0</td>\n",
       "      <td>0</td>\n",
       "      <td>1</td>\n",
       "      <td>0</td>\n",
       "      <td>0</td>\n",
       "      <td>1</td>\n",
       "      <td>0</td>\n",
       "    </tr>\n",
       "  </tbody>\n",
       "</table>\n",
       "</div>"
      ],
      "text/plain": [
       "   amount  weight  avg_price  yyyy  mm  dd  origin_군산  origin_대천  origin_완도  \\\n",
       "2     145     1.0      37700  2017   1   2          0          0          1   \n",
       "4     124     1.0      36100  2017   1   2          0          0          1   \n",
       "5      99     1.0      35000  2017   1   2          0          0          1   \n",
       "\n",
       "   standard_12/13미  standard_13/14미  standard_14/15미  standard_15/16미  \n",
       "2                1                0                0                0  \n",
       "4                0                1                0                0  \n",
       "5                0                0                1                0  "
      ]
     },
     "execution_count": 46,
     "metadata": {},
     "output_type": "execute_result"
    }
   ],
   "source": [
    "jb_pdf.head(3)"
   ]
  },
  {
   "cell_type": "code",
   "execution_count": 47,
   "metadata": {},
   "outputs": [
    {
     "data": {
      "text/plain": [
       "13"
      ]
     },
     "execution_count": 47,
     "metadata": {},
     "output_type": "execute_result"
    }
   ],
   "source": [
    "len(jb_pdf.columns)"
   ]
  },
  {
   "cell_type": "code",
   "execution_count": 48,
   "metadata": {},
   "outputs": [
    {
     "data": {
      "text/html": [
       "<div>\n",
       "<style scoped>\n",
       "    .dataframe tbody tr th:only-of-type {\n",
       "        vertical-align: middle;\n",
       "    }\n",
       "\n",
       "    .dataframe tbody tr th {\n",
       "        vertical-align: top;\n",
       "    }\n",
       "\n",
       "    .dataframe thead th {\n",
       "        text-align: right;\n",
       "    }\n",
       "</style>\n",
       "<table border=\"1\" class=\"dataframe\">\n",
       "  <thead>\n",
       "    <tr style=\"text-align: right;\">\n",
       "      <th></th>\n",
       "      <th>amount</th>\n",
       "      <th>weight</th>\n",
       "      <th>avg_price</th>\n",
       "      <th>yyyy</th>\n",
       "      <th>mm</th>\n",
       "      <th>dd</th>\n",
       "      <th>origin_군산</th>\n",
       "      <th>origin_대천</th>\n",
       "      <th>origin_완도</th>\n",
       "      <th>standard_12/13미</th>\n",
       "      <th>standard_13/14미</th>\n",
       "      <th>standard_14/15미</th>\n",
       "      <th>standard_15/16미</th>\n",
       "    </tr>\n",
       "  </thead>\n",
       "  <tbody>\n",
       "    <tr>\n",
       "      <th>count</th>\n",
       "      <td>7000.000000</td>\n",
       "      <td>7000.000000</td>\n",
       "      <td>7000.000000</td>\n",
       "      <td>7000.000000</td>\n",
       "      <td>7000.000000</td>\n",
       "      <td>7000.000000</td>\n",
       "      <td>7000.000000</td>\n",
       "      <td>7000.000000</td>\n",
       "      <td>7000.000000</td>\n",
       "      <td>7000.000000</td>\n",
       "      <td>7000.000000</td>\n",
       "      <td>7000.000000</td>\n",
       "      <td>7000.000000</td>\n",
       "    </tr>\n",
       "    <tr>\n",
       "      <th>mean</th>\n",
       "      <td>138.979571</td>\n",
       "      <td>1.005900</td>\n",
       "      <td>23485.414286</td>\n",
       "      <td>2019.216143</td>\n",
       "      <td>6.356143</td>\n",
       "      <td>15.696714</td>\n",
       "      <td>0.000143</td>\n",
       "      <td>0.000143</td>\n",
       "      <td>0.999714</td>\n",
       "      <td>0.252000</td>\n",
       "      <td>0.250714</td>\n",
       "      <td>0.249000</td>\n",
       "      <td>0.248286</td>\n",
       "    </tr>\n",
       "    <tr>\n",
       "      <th>std</th>\n",
       "      <td>83.528518</td>\n",
       "      <td>0.232213</td>\n",
       "      <td>3388.052110</td>\n",
       "      <td>1.586032</td>\n",
       "      <td>3.360281</td>\n",
       "      <td>8.738956</td>\n",
       "      <td>0.011952</td>\n",
       "      <td>0.011952</td>\n",
       "      <td>0.016902</td>\n",
       "      <td>0.434192</td>\n",
       "      <td>0.433455</td>\n",
       "      <td>0.432465</td>\n",
       "      <td>0.432049</td>\n",
       "    </tr>\n",
       "    <tr>\n",
       "      <th>min</th>\n",
       "      <td>1.000000</td>\n",
       "      <td>1.000000</td>\n",
       "      <td>11500.000000</td>\n",
       "      <td>2017.000000</td>\n",
       "      <td>1.000000</td>\n",
       "      <td>1.000000</td>\n",
       "      <td>0.000000</td>\n",
       "      <td>0.000000</td>\n",
       "      <td>0.000000</td>\n",
       "      <td>0.000000</td>\n",
       "      <td>0.000000</td>\n",
       "      <td>0.000000</td>\n",
       "      <td>0.000000</td>\n",
       "    </tr>\n",
       "    <tr>\n",
       "      <th>25%</th>\n",
       "      <td>81.000000</td>\n",
       "      <td>1.000000</td>\n",
       "      <td>21400.000000</td>\n",
       "      <td>2018.000000</td>\n",
       "      <td>3.000000</td>\n",
       "      <td>8.000000</td>\n",
       "      <td>0.000000</td>\n",
       "      <td>0.000000</td>\n",
       "      <td>1.000000</td>\n",
       "      <td>0.000000</td>\n",
       "      <td>0.000000</td>\n",
       "      <td>0.000000</td>\n",
       "      <td>0.000000</td>\n",
       "    </tr>\n",
       "    <tr>\n",
       "      <th>50%</th>\n",
       "      <td>126.000000</td>\n",
       "      <td>1.000000</td>\n",
       "      <td>23400.000000</td>\n",
       "      <td>2019.000000</td>\n",
       "      <td>6.000000</td>\n",
       "      <td>16.000000</td>\n",
       "      <td>0.000000</td>\n",
       "      <td>0.000000</td>\n",
       "      <td>1.000000</td>\n",
       "      <td>0.000000</td>\n",
       "      <td>0.000000</td>\n",
       "      <td>0.000000</td>\n",
       "      <td>0.000000</td>\n",
       "    </tr>\n",
       "    <tr>\n",
       "      <th>75%</th>\n",
       "      <td>181.000000</td>\n",
       "      <td>1.000000</td>\n",
       "      <td>25600.000000</td>\n",
       "      <td>2021.000000</td>\n",
       "      <td>9.000000</td>\n",
       "      <td>23.000000</td>\n",
       "      <td>0.000000</td>\n",
       "      <td>0.000000</td>\n",
       "      <td>1.000000</td>\n",
       "      <td>1.000000</td>\n",
       "      <td>1.000000</td>\n",
       "      <td>0.000000</td>\n",
       "      <td>0.000000</td>\n",
       "    </tr>\n",
       "    <tr>\n",
       "      <th>max</th>\n",
       "      <td>1873.000000</td>\n",
       "      <td>11.700000</td>\n",
       "      <td>101100.000000</td>\n",
       "      <td>2022.000000</td>\n",
       "      <td>12.000000</td>\n",
       "      <td>31.000000</td>\n",
       "      <td>1.000000</td>\n",
       "      <td>1.000000</td>\n",
       "      <td>1.000000</td>\n",
       "      <td>1.000000</td>\n",
       "      <td>1.000000</td>\n",
       "      <td>1.000000</td>\n",
       "      <td>1.000000</td>\n",
       "    </tr>\n",
       "  </tbody>\n",
       "</table>\n",
       "</div>"
      ],
      "text/plain": [
       "            amount       weight      avg_price         yyyy           mm  \\\n",
       "count  7000.000000  7000.000000    7000.000000  7000.000000  7000.000000   \n",
       "mean    138.979571     1.005900   23485.414286  2019.216143     6.356143   \n",
       "std      83.528518     0.232213    3388.052110     1.586032     3.360281   \n",
       "min       1.000000     1.000000   11500.000000  2017.000000     1.000000   \n",
       "25%      81.000000     1.000000   21400.000000  2018.000000     3.000000   \n",
       "50%     126.000000     1.000000   23400.000000  2019.000000     6.000000   \n",
       "75%     181.000000     1.000000   25600.000000  2021.000000     9.000000   \n",
       "max    1873.000000    11.700000  101100.000000  2022.000000    12.000000   \n",
       "\n",
       "                dd    origin_군산    origin_대천    origin_완도  standard_12/13미  \\\n",
       "count  7000.000000  7000.000000  7000.000000  7000.000000      7000.000000   \n",
       "mean     15.696714     0.000143     0.000143     0.999714         0.252000   \n",
       "std       8.738956     0.011952     0.011952     0.016902         0.434192   \n",
       "min       1.000000     0.000000     0.000000     0.000000         0.000000   \n",
       "25%       8.000000     0.000000     0.000000     1.000000         0.000000   \n",
       "50%      16.000000     0.000000     0.000000     1.000000         0.000000   \n",
       "75%      23.000000     0.000000     0.000000     1.000000         1.000000   \n",
       "max      31.000000     1.000000     1.000000     1.000000         1.000000   \n",
       "\n",
       "       standard_13/14미  standard_14/15미  standard_15/16미  \n",
       "count      7000.000000      7000.000000      7000.000000  \n",
       "mean          0.250714         0.249000         0.248286  \n",
       "std           0.433455         0.432465         0.432049  \n",
       "min           0.000000         0.000000         0.000000  \n",
       "25%           0.000000         0.000000         0.000000  \n",
       "50%           0.000000         0.000000         0.000000  \n",
       "75%           1.000000         0.000000         0.000000  \n",
       "max           1.000000         1.000000         1.000000  "
      ]
     },
     "execution_count": 48,
     "metadata": {},
     "output_type": "execute_result"
    }
   ],
   "source": [
    "jb_pdf.describe()"
   ]
  },
  {
   "cell_type": "markdown",
   "metadata": {},
   "source": [
    "## 시각화"
   ]
  },
  {
   "cell_type": "code",
   "execution_count": 49,
   "metadata": {},
   "outputs": [],
   "source": [
    "num_cols = ['amount', 'weight', 'avg_price', 'yyyy', 'mm', 'dd']\n",
    "num_jb_pdf = jb_pdf[num_cols]"
   ]
  },
  {
   "cell_type": "code",
   "execution_count": 50,
   "metadata": {},
   "outputs": [
    {
     "data": {
      "text/plain": [
       "<AxesSubplot:>"
      ]
     },
     "execution_count": 50,
     "metadata": {},
     "output_type": "execute_result"
    },
    {
     "data": {
      "image/png": "[encoded data removed]",
      "text/plain": [
       "<Figure size 576x432 with 2 Axes>"
      ]
     },
     "metadata": {
      "needs_background": "light"
     },
     "output_type": "display_data"
    }
   ],
   "source": [
    "plt.figure(figsize=(8, 6))\n",
    "sns.heatmap(num_jb_pdf.corr(), annot=True)"
   ]
  },
  {
   "cell_type": "code",
   "execution_count": 51,
   "metadata": {},
   "outputs": [
    {
     "name": "stdout",
     "output_type": "stream",
     "text": [
      "Index(['amount', 'weight', 'avg_price', 'yyyy', 'mm', 'dd', 'origin_군산',\n",
      "       'origin_대천', 'origin_완도', 'standard_12/13미', 'standard_13/14미',\n",
      "       'standard_14/15미', 'standard_15/16미'],\n",
      "      dtype='object')\n",
      "컬럼 수 : 13\n"
     ]
    }
   ],
   "source": [
    "print(jb_pdf.columns)\n",
    "print(\"컬럼 수 :\", len(jb_pdf.columns))"
   ]
  },
  {
   "cell_type": "code",
   "execution_count": 52,
   "metadata": {},
   "outputs": [
    {
     "data": {
      "image/png": "[encoded data removed]",
      "text/plain": [
       "<Figure size 1152x936 with 6 Axes>"
      ]
     },
     "metadata": {
      "needs_background": "light"
     },
     "output_type": "display_data"
    }
   ],
   "source": [
    "fig, ax = plt.subplots(nrows = 2, ncols =3)\n",
    "fig.set_size_inches(16,13)\n",
    "for i in range(len(num_jb_pdf.columns)):\n",
    "    sns.scatterplot(data = num_jb_pdf, y = 'avg_price' ,x = num_jb_pdf.columns[i], ax= ax[int(i//3)][int(i%3)])\n",
    "    ax[int(i//3)][int(i%3)].set_title(\"scatterplot : \" + num_jb_pdf.columns[i])\n",
    "\n",
    "plt.show()"
   ]
  },
  {
   "cell_type": "code",
   "execution_count": 53,
   "metadata": {},
   "outputs": [
    {
     "data": {
      "image/png": "[encoded data removed]",
      "text/plain": [
       "<Figure size 1152x936 with 6 Axes>"
      ]
     },
     "metadata": {
      "needs_background": "light"
     },
     "output_type": "display_data"
    }
   ],
   "source": [
    "fig, ax = plt.subplots(nrows = 2, ncols =3)\n",
    "fig.set_size_inches(16,13)\n",
    "for i in range(len(num_jb_pdf.columns)):\n",
    "    sns.boxplot(data = num_jb_pdf, y = num_jb_pdf.columns[i], ax= ax[int(i//3)][int(i%3)])\n",
    "    ax[int(i//3)][int(i%3)].set_title(\"scatterplot : \" + num_jb_pdf.columns[i])\n",
    "\n",
    "plt.show()"
   ]
  },
  {
   "cell_type": "markdown",
   "metadata": {},
   "source": [
    "### 결측치 제거"
   ]
  },
  {
   "cell_type": "markdown",
   "metadata": {},
   "source": [
    "amout > 1000 이상 데이터 제거"
   ]
  },
  {
   "cell_type": "code",
   "execution_count": 54,
   "metadata": {},
   "outputs": [
    {
     "data": {
      "text/plain": [
       "25750       1\n",
       "26955       6\n",
       "14367      10\n",
       "9167       10\n",
       "10692      10\n",
       "         ... \n",
       "23202     676\n",
       "29374     767\n",
       "29358     909\n",
       "30255    1779\n",
       "30057    1873\n",
       "Name: amount, Length: 7000, dtype: int64"
      ]
     },
     "execution_count": 54,
     "metadata": {},
     "output_type": "execute_result"
    }
   ],
   "source": [
    "jb_pdf['amount'].sort_values()"
   ]
  },
  {
   "cell_type": "code",
   "execution_count": 55,
   "metadata": {},
   "outputs": [],
   "source": [
    "jb_pdf = jb_pdf[jb_pdf.amount < 1000]"
   ]
  },
  {
   "cell_type": "markdown",
   "metadata": {},
   "source": [
    "weight > 4 이상 데이터 제거"
   ]
  },
  {
   "cell_type": "code",
   "execution_count": 56,
   "metadata": {},
   "outputs": [
    {
     "data": {
      "text/plain": [
       "2         1.0\n",
       "23458     1.0\n",
       "23443     1.0\n",
       "23441     1.0\n",
       "23439     1.0\n",
       "         ... \n",
       "23738     4.0\n",
       "1254     10.0\n",
       "1259     10.0\n",
       "15886    10.6\n",
       "25750    11.7\n",
       "Name: weight, Length: 6998, dtype: float64"
      ]
     },
     "execution_count": 56,
     "metadata": {},
     "output_type": "execute_result"
    }
   ],
   "source": [
    "jb_pdf['weight'].sort_values()"
   ]
  },
  {
   "cell_type": "code",
   "execution_count": 57,
   "metadata": {},
   "outputs": [],
   "source": [
    "jb_pdf = jb_pdf[jb_pdf.weight < 4]"
   ]
  },
  {
   "cell_type": "markdown",
   "metadata": {},
   "source": [
    "avg_price는 위의 이상치 제거하면서 사라짐 -> 제거하지 않음"
   ]
  },
  {
   "cell_type": "code",
   "execution_count": 58,
   "metadata": {},
   "outputs": [
    {
     "data": {
      "text/plain": [
       "24023    11500\n",
       "23764    12800\n",
       "23724    13000\n",
       "29617    13300\n",
       "24022    13300\n",
       "         ...  \n",
       "364      35100\n",
       "7        35700\n",
       "4        36100\n",
       "2        37700\n",
       "19902    37800\n",
       "Name: avg_price, Length: 6993, dtype: int32"
      ]
     },
     "execution_count": 58,
     "metadata": {},
     "output_type": "execute_result"
    }
   ],
   "source": [
    "jb_pdf['avg_price'].sort_values()"
   ]
  },
  {
   "cell_type": "code",
   "execution_count": 59,
   "metadata": {},
   "outputs": [
    {
     "data": {
      "text/plain": [
       "amount             6993\n",
       "weight             6993\n",
       "avg_price          6993\n",
       "yyyy               6993\n",
       "mm                 6993\n",
       "dd                 6993\n",
       "origin_군산          6993\n",
       "origin_대천          6993\n",
       "origin_완도          6993\n",
       "standard_12/13미    6993\n",
       "standard_13/14미    6993\n",
       "standard_14/15미    6993\n",
       "standard_15/16미    6993\n",
       "dtype: int64"
      ]
     },
     "execution_count": 59,
     "metadata": {},
     "output_type": "execute_result"
    }
   ],
   "source": [
    "jb_pdf.count()"
   ]
  },
  {
   "cell_type": "code",
   "execution_count": 60,
   "metadata": {},
   "outputs": [],
   "source": [
    "jb_pdf.to_csv('cleaned_jb.csv')"
   ]
  },
  {
   "cell_type": "code",
   "execution_count": 61,
   "metadata": {},
   "outputs": [],
   "source": [
    "cleaned_csv = pd.read_csv('./cleaned_jb.csv')"
   ]
  },
  {
   "cell_type": "code",
   "execution_count": 62,
   "metadata": {},
   "outputs": [
    {
     "data": {
      "text/html": [
       "<div>\n",
       "<style scoped>\n",
       "    .dataframe tbody tr th:only-of-type {\n",
       "        vertical-align: middle;\n",
       "    }\n",
       "\n",
       "    .dataframe tbody tr th {\n",
       "        vertical-align: top;\n",
       "    }\n",
       "\n",
       "    .dataframe thead th {\n",
       "        text-align: right;\n",
       "    }\n",
       "</style>\n",
       "<table border=\"1\" class=\"dataframe\">\n",
       "  <thead>\n",
       "    <tr style=\"text-align: right;\">\n",
       "      <th></th>\n",
       "      <th>Unnamed: 0</th>\n",
       "      <th>amount</th>\n",
       "      <th>weight</th>\n",
       "      <th>avg_price</th>\n",
       "      <th>yyyy</th>\n",
       "      <th>mm</th>\n",
       "      <th>dd</th>\n",
       "      <th>origin_군산</th>\n",
       "      <th>origin_대천</th>\n",
       "      <th>origin_완도</th>\n",
       "      <th>standard_12/13미</th>\n",
       "      <th>standard_13/14미</th>\n",
       "      <th>standard_14/15미</th>\n",
       "      <th>standard_15/16미</th>\n",
       "    </tr>\n",
       "  </thead>\n",
       "  <tbody>\n",
       "    <tr>\n",
       "      <th>0</th>\n",
       "      <td>2</td>\n",
       "      <td>145</td>\n",
       "      <td>1.0</td>\n",
       "      <td>37700</td>\n",
       "      <td>2017</td>\n",
       "      <td>1</td>\n",
       "      <td>2</td>\n",
       "      <td>0</td>\n",
       "      <td>0</td>\n",
       "      <td>1</td>\n",
       "      <td>1</td>\n",
       "      <td>0</td>\n",
       "      <td>0</td>\n",
       "      <td>0</td>\n",
       "    </tr>\n",
       "    <tr>\n",
       "      <th>1</th>\n",
       "      <td>4</td>\n",
       "      <td>124</td>\n",
       "      <td>1.0</td>\n",
       "      <td>36100</td>\n",
       "      <td>2017</td>\n",
       "      <td>1</td>\n",
       "      <td>2</td>\n",
       "      <td>0</td>\n",
       "      <td>0</td>\n",
       "      <td>1</td>\n",
       "      <td>0</td>\n",
       "      <td>1</td>\n",
       "      <td>0</td>\n",
       "      <td>0</td>\n",
       "    </tr>\n",
       "    <tr>\n",
       "      <th>2</th>\n",
       "      <td>5</td>\n",
       "      <td>99</td>\n",
       "      <td>1.0</td>\n",
       "      <td>35000</td>\n",
       "      <td>2017</td>\n",
       "      <td>1</td>\n",
       "      <td>2</td>\n",
       "      <td>0</td>\n",
       "      <td>0</td>\n",
       "      <td>1</td>\n",
       "      <td>0</td>\n",
       "      <td>0</td>\n",
       "      <td>1</td>\n",
       "      <td>0</td>\n",
       "    </tr>\n",
       "    <tr>\n",
       "      <th>3</th>\n",
       "      <td>7</td>\n",
       "      <td>33</td>\n",
       "      <td>1.0</td>\n",
       "      <td>35700</td>\n",
       "      <td>2017</td>\n",
       "      <td>1</td>\n",
       "      <td>2</td>\n",
       "      <td>0</td>\n",
       "      <td>0</td>\n",
       "      <td>1</td>\n",
       "      <td>0</td>\n",
       "      <td>0</td>\n",
       "      <td>0</td>\n",
       "      <td>1</td>\n",
       "    </tr>\n",
       "    <tr>\n",
       "      <th>4</th>\n",
       "      <td>23</td>\n",
       "      <td>181</td>\n",
       "      <td>1.0</td>\n",
       "      <td>34900</td>\n",
       "      <td>2017</td>\n",
       "      <td>1</td>\n",
       "      <td>3</td>\n",
       "      <td>0</td>\n",
       "      <td>0</td>\n",
       "      <td>1</td>\n",
       "      <td>1</td>\n",
       "      <td>0</td>\n",
       "      <td>0</td>\n",
       "      <td>0</td>\n",
       "    </tr>\n",
       "  </tbody>\n",
       "</table>\n",
       "</div>"
      ],
      "text/plain": [
       "   Unnamed: 0  amount  weight  avg_price  yyyy  mm  dd  origin_군산  origin_대천  \\\n",
       "0           2     145     1.0      37700  2017   1   2          0          0   \n",
       "1           4     124     1.0      36100  2017   1   2          0          0   \n",
       "2           5      99     1.0      35000  2017   1   2          0          0   \n",
       "3           7      33     1.0      35700  2017   1   2          0          0   \n",
       "4          23     181     1.0      34900  2017   1   3          0          0   \n",
       "\n",
       "   origin_완도  standard_12/13미  standard_13/14미  standard_14/15미  \\\n",
       "0          1                1                0                0   \n",
       "1          1                0                1                0   \n",
       "2          1                0                0                1   \n",
       "3          1                0                0                0   \n",
       "4          1                1                0                0   \n",
       "\n",
       "   standard_15/16미  \n",
       "0                0  \n",
       "1                0  \n",
       "2                0  \n",
       "3                1  \n",
       "4                0  "
      ]
     },
     "execution_count": 62,
     "metadata": {},
     "output_type": "execute_result"
    }
   ],
   "source": [
    "cleaned_csv.head()"
   ]
  },
  {
   "cell_type": "markdown",
   "metadata": {},
   "source": [
    "## 선형 회귀"
   ]
  },
  {
   "cell_type": "code",
   "execution_count": 475,
   "metadata": {},
   "outputs": [
    {
     "data": {
      "text/html": [
       "<div>\n",
       "<style scoped>\n",
       "    .dataframe tbody tr th:only-of-type {\n",
       "        vertical-align: middle;\n",
       "    }\n",
       "\n",
       "    .dataframe tbody tr th {\n",
       "        vertical-align: top;\n",
       "    }\n",
       "\n",
       "    .dataframe thead th {\n",
       "        text-align: right;\n",
       "    }\n",
       "</style>\n",
       "<table border=\"1\" class=\"dataframe\">\n",
       "  <thead>\n",
       "    <tr style=\"text-align: right;\">\n",
       "      <th></th>\n",
       "      <th>amount</th>\n",
       "      <th>weight</th>\n",
       "      <th>avg_price</th>\n",
       "      <th>yyyy</th>\n",
       "      <th>mm</th>\n",
       "      <th>dd</th>\n",
       "      <th>origin_군산</th>\n",
       "      <th>origin_대천</th>\n",
       "      <th>origin_완도</th>\n",
       "      <th>standard_12/13미</th>\n",
       "      <th>standard_13/14미</th>\n",
       "      <th>standard_14/15미</th>\n",
       "      <th>standard_15/16미</th>\n",
       "    </tr>\n",
       "  </thead>\n",
       "  <tbody>\n",
       "    <tr>\n",
       "      <th>2</th>\n",
       "      <td>145</td>\n",
       "      <td>1.0</td>\n",
       "      <td>37700</td>\n",
       "      <td>2017</td>\n",
       "      <td>1</td>\n",
       "      <td>2</td>\n",
       "      <td>0</td>\n",
       "      <td>0</td>\n",
       "      <td>1</td>\n",
       "      <td>1</td>\n",
       "      <td>0</td>\n",
       "      <td>0</td>\n",
       "      <td>0</td>\n",
       "    </tr>\n",
       "    <tr>\n",
       "      <th>4</th>\n",
       "      <td>124</td>\n",
       "      <td>1.0</td>\n",
       "      <td>36100</td>\n",
       "      <td>2017</td>\n",
       "      <td>1</td>\n",
       "      <td>2</td>\n",
       "      <td>0</td>\n",
       "      <td>0</td>\n",
       "      <td>1</td>\n",
       "      <td>0</td>\n",
       "      <td>1</td>\n",
       "      <td>0</td>\n",
       "      <td>0</td>\n",
       "    </tr>\n",
       "    <tr>\n",
       "      <th>5</th>\n",
       "      <td>99</td>\n",
       "      <td>1.0</td>\n",
       "      <td>35000</td>\n",
       "      <td>2017</td>\n",
       "      <td>1</td>\n",
       "      <td>2</td>\n",
       "      <td>0</td>\n",
       "      <td>0</td>\n",
       "      <td>1</td>\n",
       "      <td>0</td>\n",
       "      <td>0</td>\n",
       "      <td>1</td>\n",
       "      <td>0</td>\n",
       "    </tr>\n",
       "    <tr>\n",
       "      <th>7</th>\n",
       "      <td>33</td>\n",
       "      <td>1.0</td>\n",
       "      <td>35700</td>\n",
       "      <td>2017</td>\n",
       "      <td>1</td>\n",
       "      <td>2</td>\n",
       "      <td>0</td>\n",
       "      <td>0</td>\n",
       "      <td>1</td>\n",
       "      <td>0</td>\n",
       "      <td>0</td>\n",
       "      <td>0</td>\n",
       "      <td>1</td>\n",
       "    </tr>\n",
       "    <tr>\n",
       "      <th>23</th>\n",
       "      <td>181</td>\n",
       "      <td>1.0</td>\n",
       "      <td>34900</td>\n",
       "      <td>2017</td>\n",
       "      <td>1</td>\n",
       "      <td>3</td>\n",
       "      <td>0</td>\n",
       "      <td>0</td>\n",
       "      <td>1</td>\n",
       "      <td>1</td>\n",
       "      <td>0</td>\n",
       "      <td>0</td>\n",
       "      <td>0</td>\n",
       "    </tr>\n",
       "  </tbody>\n",
       "</table>\n",
       "</div>"
      ],
      "text/plain": [
       "    amount  weight  avg_price  yyyy  mm  dd  origin_군산  origin_대천  origin_완도  \\\n",
       "2      145     1.0      37700  2017   1   2          0          0          1   \n",
       "4      124     1.0      36100  2017   1   2          0          0          1   \n",
       "5       99     1.0      35000  2017   1   2          0          0          1   \n",
       "7       33     1.0      35700  2017   1   2          0          0          1   \n",
       "23     181     1.0      34900  2017   1   3          0          0          1   \n",
       "\n",
       "    standard_12/13미  standard_13/14미  standard_14/15미  standard_15/16미  \n",
       "2                 1                0                0                0  \n",
       "4                 0                1                0                0  \n",
       "5                 0                0                1                0  \n",
       "7                 0                0                0                1  \n",
       "23                1                0                0                0  "
      ]
     },
     "execution_count": 475,
     "metadata": {},
     "output_type": "execute_result"
    }
   ],
   "source": [
    "jb_pdf.head()"
   ]
  },
  {
   "cell_type": "code",
   "execution_count": 63,
   "metadata": {},
   "outputs": [],
   "source": [
    "X = jb_pdf.drop(columns='avg_price')\n",
    "y = jb_pdf['avg_price']"
   ]
  },
  {
   "cell_type": "code",
   "execution_count": 70,
   "metadata": {},
   "outputs": [
    {
     "data": {
      "text/html": [
       "<div>\n",
       "<style scoped>\n",
       "    .dataframe tbody tr th:only-of-type {\n",
       "        vertical-align: middle;\n",
       "    }\n",
       "\n",
       "    .dataframe tbody tr th {\n",
       "        vertical-align: top;\n",
       "    }\n",
       "\n",
       "    .dataframe thead th {\n",
       "        text-align: right;\n",
       "    }\n",
       "</style>\n",
       "<table border=\"1\" class=\"dataframe\">\n",
       "  <thead>\n",
       "    <tr style=\"text-align: right;\">\n",
       "      <th></th>\n",
       "      <th>amount</th>\n",
       "      <th>weight</th>\n",
       "      <th>yyyy</th>\n",
       "      <th>mm</th>\n",
       "      <th>dd</th>\n",
       "      <th>origin_군산</th>\n",
       "      <th>origin_대천</th>\n",
       "      <th>origin_완도</th>\n",
       "      <th>standard_12/13미</th>\n",
       "      <th>standard_13/14미</th>\n",
       "      <th>standard_14/15미</th>\n",
       "      <th>standard_15/16미</th>\n",
       "    </tr>\n",
       "  </thead>\n",
       "  <tbody>\n",
       "    <tr>\n",
       "      <th>2</th>\n",
       "      <td>145</td>\n",
       "      <td>1.0</td>\n",
       "      <td>2017</td>\n",
       "      <td>1</td>\n",
       "      <td>2</td>\n",
       "      <td>0</td>\n",
       "      <td>0</td>\n",
       "      <td>1</td>\n",
       "      <td>1</td>\n",
       "      <td>0</td>\n",
       "      <td>0</td>\n",
       "      <td>0</td>\n",
       "    </tr>\n",
       "    <tr>\n",
       "      <th>4</th>\n",
       "      <td>124</td>\n",
       "      <td>1.0</td>\n",
       "      <td>2017</td>\n",
       "      <td>1</td>\n",
       "      <td>2</td>\n",
       "      <td>0</td>\n",
       "      <td>0</td>\n",
       "      <td>1</td>\n",
       "      <td>0</td>\n",
       "      <td>1</td>\n",
       "      <td>0</td>\n",
       "      <td>0</td>\n",
       "    </tr>\n",
       "    <tr>\n",
       "      <th>5</th>\n",
       "      <td>99</td>\n",
       "      <td>1.0</td>\n",
       "      <td>2017</td>\n",
       "      <td>1</td>\n",
       "      <td>2</td>\n",
       "      <td>0</td>\n",
       "      <td>0</td>\n",
       "      <td>1</td>\n",
       "      <td>0</td>\n",
       "      <td>0</td>\n",
       "      <td>1</td>\n",
       "      <td>0</td>\n",
       "    </tr>\n",
       "    <tr>\n",
       "      <th>7</th>\n",
       "      <td>33</td>\n",
       "      <td>1.0</td>\n",
       "      <td>2017</td>\n",
       "      <td>1</td>\n",
       "      <td>2</td>\n",
       "      <td>0</td>\n",
       "      <td>0</td>\n",
       "      <td>1</td>\n",
       "      <td>0</td>\n",
       "      <td>0</td>\n",
       "      <td>0</td>\n",
       "      <td>1</td>\n",
       "    </tr>\n",
       "    <tr>\n",
       "      <th>23</th>\n",
       "      <td>181</td>\n",
       "      <td>1.0</td>\n",
       "      <td>2017</td>\n",
       "      <td>1</td>\n",
       "      <td>3</td>\n",
       "      <td>0</td>\n",
       "      <td>0</td>\n",
       "      <td>1</td>\n",
       "      <td>1</td>\n",
       "      <td>0</td>\n",
       "      <td>0</td>\n",
       "      <td>0</td>\n",
       "    </tr>\n",
       "  </tbody>\n",
       "</table>\n",
       "</div>"
      ],
      "text/plain": [
       "    amount  weight  yyyy  mm  dd  origin_군산  origin_대천  origin_완도  \\\n",
       "2      145     1.0  2017   1   2          0          0          1   \n",
       "4      124     1.0  2017   1   2          0          0          1   \n",
       "5       99     1.0  2017   1   2          0          0          1   \n",
       "7       33     1.0  2017   1   2          0          0          1   \n",
       "23     181     1.0  2017   1   3          0          0          1   \n",
       "\n",
       "    standard_12/13미  standard_13/14미  standard_14/15미  standard_15/16미  \n",
       "2                 1                0                0                0  \n",
       "4                 0                1                0                0  \n",
       "5                 0                0                1                0  \n",
       "7                 0                0                0                1  \n",
       "23                1                0                0                0  "
      ]
     },
     "execution_count": 70,
     "metadata": {},
     "output_type": "execute_result"
    }
   ],
   "source": [
    "X.head()"
   ]
  },
  {
   "cell_type": "code",
   "execution_count": 64,
   "metadata": {},
   "outputs": [],
   "source": [
    "X_train, X_test, y_train, y_test = train_test_split(X, y, random_state = 20, shuffle =True, test_size = 0.2)"
   ]
  },
  {
   "cell_type": "code",
   "execution_count": 478,
   "metadata": {},
   "outputs": [],
   "source": [
    "jb_model_lr = LinearRegression()\n",
    "jb_model_lr.fit(X_train, y_train)\n",
    "jb_lr_y_pred = jb_model_lr.predict(X_test)"
   ]
  },
  {
   "cell_type": "code",
   "execution_count": 479,
   "metadata": {},
   "outputs": [
    {
     "name": "stdout",
     "output_type": "stream",
     "text": [
      "0.3046846426244392\n",
      "0.3133015675368981\n"
     ]
    }
   ],
   "source": [
    "print(jb_model_lr.score(X_train, y_train))\n",
    "print(jb_model_lr.score(X_test, y_test))"
   ]
  },
  {
   "cell_type": "code",
   "execution_count": 480,
   "metadata": {},
   "outputs": [
    {
     "name": "stdout",
     "output_type": "stream",
     "text": [
      "MSE : 7214746.94087, RMSE : 2686.02810\n",
      "r2_score :  0.3133015675368981\n"
     ]
    }
   ],
   "source": [
    "MSE = mean_squared_error(y_test, jb_lr_y_pred)\n",
    "RMSE = np.sqrt(MSE)\n",
    "r2 = r2_score(y_test, jb_lr_y_pred)\n",
    "\n",
    "print('MSE : {0:.5f}, RMSE : {1:.5f}'.format(MSE, RMSE))\n",
    "print(\"r2_score : \", r2)"
   ]
  },
  {
   "cell_type": "code",
   "execution_count": 481,
   "metadata": {},
   "outputs": [],
   "source": [
    "y_test = np.array(y_test)"
   ]
  },
  {
   "cell_type": "code",
   "execution_count": 482,
   "metadata": {},
   "outputs": [
    {
     "data": {
      "image/png": "[encoded data removed]",
      "text/plain": [
       "<Figure size 432x288 with 1 Axes>"
      ]
     },
     "metadata": {
      "needs_background": "light"
     },
     "output_type": "display_data"
    }
   ],
   "source": [
    "y_test = np.array(y_test)\n",
    "\n",
    "real = []\n",
    "pred = []\n",
    "index = []\n",
    "\n",
    "for i in range(100):\n",
    "  index.append(i)\n",
    "  real.append(y_test[i])\n",
    "  pred.append(jb_lr_y_pred[i])\n",
    "  \n",
    "plt.plot(index, real, 'b--', label=\"Real\")\n",
    "plt.plot(index, pred, 'r--', label=\"Pred\")\n",
    "plt.show()"
   ]
  },
  {
   "cell_type": "code",
   "execution_count": 483,
   "metadata": {},
   "outputs": [],
   "source": [
    "# from sklearn.preprocessing import MinMaxScaler, StandardScaler\n",
    "\n",
    "scaler = StandardScaler()\n",
    "# minmax_scaler = MinMaxScaler()\n",
    "scaler.fit(X_train)\n",
    "\n",
    "x_train_scaled = scaler.transform(X_train)\n",
    "x_test_scaled = scaler.transform(X_test)"
   ]
  },
  {
   "cell_type": "code",
   "execution_count": 484,
   "metadata": {},
   "outputs": [],
   "source": [
    "jb_model_lr.fit(x_train_scaled, y_train)\n",
    "jb_y_pred_scaled = jb_model_lr.predict(x_test_scaled)"
   ]
  },
  {
   "cell_type": "code",
   "execution_count": 485,
   "metadata": {},
   "outputs": [
    {
     "name": "stdout",
     "output_type": "stream",
     "text": [
      "MSE : 7221825.56858, RMSE : 2687.34545\n",
      "r2_score :  0.312627824911169\n"
     ]
    }
   ],
   "source": [
    "MSE = mean_squared_error(y_test, jb_y_pred_scaled)\n",
    "RMSE = np.sqrt(MSE)\n",
    "r2 = r2_score(y_test, jb_y_pred_scaled)\n",
    "\n",
    "print('MSE : {0:.5f}, RMSE : {1:.5f}'.format(MSE, RMSE))\n",
    "print(\"r2_score : \", r2)"
   ]
  },
  {
   "cell_type": "markdown",
   "metadata": {},
   "source": [
    "## 랜덤포레스트"
   ]
  },
  {
   "cell_type": "code",
   "execution_count": 486,
   "metadata": {},
   "outputs": [],
   "source": [
    "jb_model_rf = RandomForestRegressor()\n",
    "\n",
    "jb_model_rf.fit(X_train, y_train)\n",
    "jb_rf_y_pred = jb_model_rf.predict(X_test)"
   ]
  },
  {
   "cell_type": "code",
   "execution_count": 487,
   "metadata": {},
   "outputs": [
    {
     "name": "stdout",
     "output_type": "stream",
     "text": [
      "MSE : 1626012.00643, RMSE : 1275.15176\n",
      "r2_score :  0.8452364434768568\n"
     ]
    }
   ],
   "source": [
    "MSE = mean_squared_error(y_test, jb_rf_y_pred)\n",
    "RMSE = np.sqrt(MSE)\n",
    "r2 = r2_score(y_test, jb_rf_y_pred)\n",
    "\n",
    "print('MSE : {0:.5f}, RMSE : {1:.5f}'.format(MSE, RMSE))\n",
    "print(\"r2_score : \", r2)"
   ]
  },
  {
   "cell_type": "code",
   "execution_count": 488,
   "metadata": {},
   "outputs": [
    {
     "name": "stdout",
     "output_type": "stream",
     "text": [
      "최적 하이퍼 파라미터: {'max_depth': None, 'n_estimators': 250, 'random_state': 99}\n",
      "최적 예측 정확도: 0.8209\n"
     ]
    }
   ],
   "source": [
    "rf_parameters = {\n",
    "    'n_estimators': [100, 150, 200, 250],\n",
    "    'max_depth': [None, 5, 6, 9, 12],\n",
    "    # 'max_depth': [5, 6, 9, 12],\n",
    "    # 'min_samples_split': [0.01, 0.02, 0.1, 0.15],\n",
    "    # 'max_features': ['auto', 'sqrt'],\n",
    "    'random_state':[99]\n",
    "}\n",
    "\n",
    "cv = KFold(n_splits=6)\n",
    "\n",
    "rf = RandomForestRegressor()\n",
    "rf_grid_cv = GridSearchCV(rf, param_grid=rf_parameters, cv=cv, n_jobs=-1, scoring='r2')\n",
    "rf_grid_cv.fit(X_train, y_train)\n",
    " \n",
    " \n",
    "print('최적 하이퍼 파라미터:', rf_grid_cv.best_params_)\n",
    "print('최적 예측 정확도: {0:.4f}'.format(rf_grid_cv.best_score_))"
   ]
  },
  {
   "cell_type": "code",
   "execution_count": 489,
   "metadata": {},
   "outputs": [],
   "source": [
    "jb_model_rf = rf_grid_cv.best_estimator_\n",
    "jb_rf_y_pred = jb_model_rf.predict(X_test)"
   ]
  },
  {
   "cell_type": "code",
   "execution_count": 490,
   "metadata": {},
   "outputs": [
    {
     "name": "stdout",
     "output_type": "stream",
     "text": [
      "MSE : 1632603.01770, RMSE : 1277.73355\n",
      "r2_score :  0.8446091121038724\n"
     ]
    }
   ],
   "source": [
    "MSE = mean_squared_error(y_test, jb_rf_y_pred)\n",
    "RMSE = np.sqrt(MSE)\n",
    "r2 = r2_score(y_test, jb_rf_y_pred)\n",
    "\n",
    "print('MSE : {0:.5f}, RMSE : {1:.5f}'.format(MSE, RMSE))\n",
    "print(\"r2_score : \", r2)"
   ]
  },
  {
   "cell_type": "code",
   "execution_count": 491,
   "metadata": {},
   "outputs": [
    {
     "data": {
      "image/png": "[encoded data removed]",
      "text/plain": [
       "<Figure size 432x288 with 1 Axes>"
      ]
     },
     "metadata": {
      "needs_background": "light"
     },
     "output_type": "display_data"
    }
   ],
   "source": [
    "real = []\n",
    "pred = []\n",
    "index = []\n",
    "\n",
    "for i in range(100):\n",
    "  index.append(i)\n",
    "  real.append(y_test[i])\n",
    "  pred.append(jb_rf_y_pred[i])\n",
    "  \n",
    "plt.plot(index, real, 'b--', label=\"Real\")\n",
    "plt.plot(index, pred, 'r--', label=\"Pred\")\n",
    "plt.show()"
   ]
  },
  {
   "cell_type": "markdown",
   "metadata": {},
   "source": [
    "## XGBRegressor"
   ]
  },
  {
   "cell_type": "code",
   "execution_count": 492,
   "metadata": {},
   "outputs": [],
   "source": [
    "jb_model_xgb = XGBRegressor()\n",
    "\n",
    "jb_model_xgb.fit(X_train, y_train)\n",
    "jb_xgb_y_pred = jb_model_xgb.predict(X_test)"
   ]
  },
  {
   "cell_type": "code",
   "execution_count": 493,
   "metadata": {},
   "outputs": [
    {
     "name": "stdout",
     "output_type": "stream",
     "text": [
      "MSE : 1750694.49907, RMSE : 1323.13813\n",
      "r2_score :  0.8333691842441212\n"
     ]
    }
   ],
   "source": [
    "MSE = mean_squared_error(y_test, jb_xgb_y_pred)\n",
    "RMSE = np.sqrt(MSE)\n",
    "r2 = r2_score(y_test, jb_xgb_y_pred)\n",
    "\n",
    "print('MSE : {0:.5f}, RMSE : {1:.5f}'.format(MSE, RMSE))\n",
    "print(\"r2_score : \", r2)"
   ]
  },
  {
   "cell_type": "markdown",
   "metadata": {},
   "source": [
    "xgb에 gcv 해본 것"
   ]
  },
  {
   "cell_type": "code",
   "execution_count": 494,
   "metadata": {},
   "outputs": [
    {
     "name": "stdout",
     "output_type": "stream",
     "text": [
      "최적 하이퍼 파라미터: {'gamma': 4, 'learning_rate': 0.1, 'max_depth': 6, 'n_estimators': 300, 'random_state': 99}\n",
      "최적 예측 정확도: 0.8224\n"
     ]
    }
   ],
   "source": [
    "xg_parameters ={'max_depth' : [3,4,5,6] , \n",
    "                # 'n_estimators': [12,24,32], \n",
    "                'n_estimators': [100,200,300], \n",
    "                'learning_rate':[0.01, 0.1], \n",
    "                # 'learning_rate':[0.1, 0.3, 0.5], \n",
    "                'gamma': [1, 2, 4], \n",
    "                'random_state':[99]}\n",
    "\n",
    "xgb = XGBRegressor()\n",
    "xgb_grid_cv = GridSearchCV(xgb, param_grid=xg_parameters, cv=6, n_jobs=-1, scoring='r2')\n",
    "xgb_grid_cv.fit(X_train, y_train)\n",
    " \n",
    " \n",
    "print('최적 하이퍼 파라미터:', xgb_grid_cv.best_params_)\n",
    "print('최적 예측 정확도: {0:.4f}'.format(xgb_grid_cv.best_score_))\n"
   ]
  },
  {
   "cell_type": "code",
   "execution_count": 495,
   "metadata": {},
   "outputs": [],
   "source": [
    "jb_model_xgb = xgb_grid_cv.best_estimator_\n",
    "jb_xgb_y_pred = jb_model_xgb.predict(X_test)"
   ]
  },
  {
   "cell_type": "code",
   "execution_count": 496,
   "metadata": {},
   "outputs": [
    {
     "name": "stdout",
     "output_type": "stream",
     "text": [
      "MSE : 1656692.19688, RMSE : 1287.12556\n",
      "r2_score :  0.8423163079734042\n"
     ]
    }
   ],
   "source": [
    "MSE = mean_squared_error(y_test, jb_xgb_y_pred)\n",
    "RMSE = np.sqrt(MSE)\n",
    "r2 = r2_score(y_test, jb_xgb_y_pred)\n",
    "\n",
    "print('MSE : {0:.5f}, RMSE : {1:.5f}'.format(MSE, RMSE))\n",
    "print(\"r2_score : \", r2)"
   ]
  },
  {
   "cell_type": "code",
   "execution_count": 497,
   "metadata": {},
   "outputs": [
    {
     "data": {
      "image/png": "[encoded data removed]",
      "text/plain": [
       "<Figure size 432x288 with 1 Axes>"
      ]
     },
     "metadata": {
      "needs_background": "light"
     },
     "output_type": "display_data"
    }
   ],
   "source": [
    "real = []\n",
    "pred = []\n",
    "index = []\n",
    "\n",
    "for i in range(100):\n",
    "  index.append(i)\n",
    "  real.append(y_test[i])\n",
    "  pred.append(jb_xgb_y_pred[i])\n",
    "  \n",
    "plt.plot(index, real, 'b--', label=\"Real\")\n",
    "plt.plot(index, pred, 'r--', label=\"Pred\")\n",
    "plt.show()"
   ]
  },
  {
   "cell_type": "markdown",
   "metadata": {},
   "source": [
    "## lightGBM"
   ]
  },
  {
   "cell_type": "code",
   "execution_count": 65,
   "metadata": {},
   "outputs": [],
   "source": [
    "jb_model_lgb = LGBMRegressor()\n",
    "\n",
    "jb_model_lgb.fit(X_train, y_train)\n",
    "jb_lgb_y_pred = jb_model_lgb.predict(X_test)"
   ]
  },
  {
   "cell_type": "code",
   "execution_count": 66,
   "metadata": {},
   "outputs": [
    {
     "name": "stdout",
     "output_type": "stream",
     "text": [
      "MSE : 1728527.27896, RMSE : 1314.73468\n",
      "r2_score :  0.8354790566241288\n"
     ]
    }
   ],
   "source": [
    "MSE = mean_squared_error(y_test, jb_lgb_y_pred)\n",
    "RMSE = np.sqrt(MSE)\n",
    "r2 = r2_score(y_test, jb_lgb_y_pred)\n",
    "\n",
    "print('MSE : {0:.5f}, RMSE : {1:.5f}'.format(MSE, RMSE))\n",
    "print(\"r2_score : \", r2)"
   ]
  },
  {
   "cell_type": "code",
   "execution_count": 67,
   "metadata": {},
   "outputs": [
    {
     "name": "stdout",
     "output_type": "stream",
     "text": [
      "최적 하이퍼 파라미터: {'colsample_bytree': 0.8, 'learning_rate': 0.1, 'max_depth': 8, 'n_estimators': 500, 'subsample': 0.8}\n",
      "최적 예측 정확도: 0.8331\n"
     ]
    }
   ],
   "source": [
    "# lgb_parameters ={'max_depth' : [3,4,5,6] ,  \n",
    "#                 'n_estimators': [100,300,500], \n",
    "#                 'learning_rate':[0.01, 0.05, 0.1],   \n",
    "#                 'random_state':[99]}\n",
    "\n",
    "lgb_parameters ={\n",
    "    'n_estimators': [200, 500, 1000, 2000],\n",
    "    'learning_rate': [0.1, 0.05, 0.01],\n",
    "    'max_depth': [6, 7, 8],\n",
    "    'colsample_bytree': [0.8, 0.9, 1.0],\n",
    "    'subsample': [0.8, 0.9, 1.0] \n",
    "                }\n",
    "\n",
    "lgb = LGBMRegressor()\n",
    "lgb_grid_cv = GridSearchCV(lgb, param_grid=lgb_parameters, cv=6, n_jobs=-1, scoring='r2')\n",
    "lgb_grid_cv.fit(X_train, y_train)\n",
    " \n",
    " \n",
    "print('최적 하이퍼 파라미터:', lgb_grid_cv.best_params_)\n",
    "print('최적 예측 정확도: {0:.4f}'.format(lgb_grid_cv.best_score_))"
   ]
  },
  {
   "cell_type": "code",
   "execution_count": 68,
   "metadata": {},
   "outputs": [],
   "source": [
    "jb_model_lgb = lgb_grid_cv.best_estimator_\n",
    "jb_lgb_y_pred = jb_model_lgb.predict(X_test)"
   ]
  },
  {
   "cell_type": "code",
   "execution_count": 69,
   "metadata": {},
   "outputs": [
    {
     "name": "stdout",
     "output_type": "stream",
     "text": [
      "MSE : 1574707.46607, RMSE : 1254.87349\n",
      "r2_score :  0.8501196012282868\n"
     ]
    }
   ],
   "source": [
    "MSE = mean_squared_error(y_test, jb_lgb_y_pred)\n",
    "RMSE = np.sqrt(MSE)\n",
    "r2 = r2_score(y_test, jb_lgb_y_pred)\n",
    "\n",
    "print('MSE : {0:.5f}, RMSE : {1:.5f}'.format(MSE, RMSE))\n",
    "print(\"r2_score : \", r2)"
   ]
  },
  {
   "cell_type": "code",
   "execution_count": 72,
   "metadata": {},
   "outputs": [
    {
     "data": {
      "text/plain": [
       "array([18961.12335512])"
      ]
     },
     "execution_count": 72,
     "metadata": {},
     "output_type": "execute_result"
    }
   ],
   "source": [
    "jb_model_lgb.predict([[221, 1.0, 2022, 7, 7, 0, 0, 1, 0, 0, 0, 0]])"
   ]
  },
  {
   "cell_type": "code",
   "execution_count": 503,
   "metadata": {},
   "outputs": [
    {
     "data": {
      "image/png": "[encoded data removed]",
      "text/plain": [
       "<Figure size 432x288 with 1 Axes>"
      ]
     },
     "metadata": {
      "needs_background": "light"
     },
     "output_type": "display_data"
    }
   ],
   "source": [
    "real = []\n",
    "pred = []\n",
    "index = []\n",
    "\n",
    "for i in range(100):\n",
    "  index.append(i)\n",
    "  real.append(y_test[i])\n",
    "  pred.append(jb_lgb_y_pred[i])\n",
    "  \n",
    "plt.plot(index, real, 'b--', label=\"Real\")\n",
    "plt.plot(index, pred, 'r--', label=\"Pred\")\n",
    "plt.show()"
   ]
  },
  {
   "cell_type": "code",
   "execution_count": null,
   "metadata": {},
   "outputs": [],
   "source": []
  }
 ],
 "metadata": {
  "kernelspec": {
   "display_name": "Python 3.8.8 ('VENV_pj3': venv)",
   "language": "python",
   "name": "python3"
  },
  "language_info": {
   "codemirror_mode": {
    "name": "ipython",
    "version": 3
   },
   "file_extension": ".py",
   "mimetype": "text/x-python",
   "name": "python",
   "nbconvert_exporter": "python",
   "pygments_lexer": "ipython3",
   "version": "3.8.8"
  },
  "orig_nbformat": 4,
  "vscode": {
   "interpreter": {
    "hash": "c5dbebbafb7f34ffec1855fdd91ee44acb08a8873b9f699f44a8cedeebe41783"
   }
  }
 },
 "nbformat": 4,
 "nbformat_minor": 2
}
