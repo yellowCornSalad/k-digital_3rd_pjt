{
 "cells": [
  {
   "cell_type": "code",
   "execution_count": 184,
   "metadata": {},
   "outputs": [],
   "source": [
    "import warnings\n",
    "warnings.filterwarnings('ignore')"
   ]
  },
  {
   "cell_type": "code",
   "execution_count": 185,
   "metadata": {},
   "outputs": [],
   "source": [
    "import pandas as pd\n",
    "import numpy as np\n",
    "import matplotlib.pyplot as plt\n",
    "import seaborn as sns\n",
    "from sklearn.model_selection import train_test_split\n",
    "from sklearn.linear_model import LinearRegression\n",
    "from sklearn.metrics import mean_squared_error, r2_score\n",
    "from sklearn.preprocessing import MinMaxScaler, StandardScaler\n",
    "from sklearn.model_selection import GridSearchCV, KFold\n",
    "from sklearn.ensemble import RandomForestRegressor\n",
    "from xgboost import XGBRegressor\n",
    "from lightgbm import LGBMRegressor"
   ]
  },
  {
   "cell_type": "code",
   "execution_count": 186,
   "metadata": {},
   "outputs": [],
   "source": [
    "\n",
    "file = '../seafood_data_junho/전복.csv'\n"
   ]
  },
  {
   "cell_type": "code",
   "execution_count": 187,
   "metadata": {},
   "outputs": [],
   "source": [
    "file = pd.read_csv(file)"
   ]
  },
  {
   "cell_type": "code",
   "execution_count": 188,
   "metadata": {},
   "outputs": [],
   "source": [
    "df = pd.DataFrame(file)"
   ]
  },
  {
   "cell_type": "code",
   "execution_count": 85,
   "metadata": {},
   "outputs": [
    {
     "name": "stdout",
     "output_type": "stream",
     "text": [
      "<class 'pandas.core.frame.DataFrame'>\n",
      "RangeIndex: 32066 entries, 0 to 32065\n",
      "Data columns (total 8 columns):\n",
      " #   Column  Non-Null Count  Dtype \n",
      "---  ------  --------------  ----- \n",
      " 0   날짜      32066 non-null  object\n",
      " 1   어종      32066 non-null  object\n",
      " 2   산지      32066 non-null  object\n",
      " 3   규격      32066 non-null  object\n",
      " 4   포장      32066 non-null  object\n",
      " 5   수량      32066 non-null  object\n",
      " 6   중량      32066 non-null  object\n",
      " 7   평균가     32066 non-null  object\n",
      "dtypes: object(8)\n",
      "memory usage: 2.0+ MB\n"
     ]
    }
   ],
   "source": [
    "df.info()"
   ]
  },
  {
   "cell_type": "code",
   "execution_count": 86,
   "metadata": {},
   "outputs": [
    {
     "data": {
      "text/plain": [
       "Index(['날짜', '어종', '산지', '규격', '포장', '수량', '중량', '평균가'], dtype='object')"
      ]
     },
     "execution_count": 86,
     "metadata": {},
     "output_type": "execute_result"
    }
   ],
   "source": [
    "df.columns"
   ]
  },
  {
   "cell_type": "code",
   "execution_count": 87,
   "metadata": {},
   "outputs": [],
   "source": [
    "df.columns = ['date', 'species', 'origin', 'standard', 'unit', 'amount', 'weight', 'avg_price']"
   ]
  },
  {
   "cell_type": "code",
   "execution_count": 88,
   "metadata": {},
   "outputs": [
    {
     "data": {
      "text/html": [
       "<div>\n",
       "<style scoped>\n",
       "    .dataframe tbody tr th:only-of-type {\n",
       "        vertical-align: middle;\n",
       "    }\n",
       "\n",
       "    .dataframe tbody tr th {\n",
       "        vertical-align: top;\n",
       "    }\n",
       "\n",
       "    .dataframe thead th {\n",
       "        text-align: right;\n",
       "    }\n",
       "</style>\n",
       "<table border=\"1\" class=\"dataframe\">\n",
       "  <thead>\n",
       "    <tr style=\"text-align: right;\">\n",
       "      <th></th>\n",
       "      <th>date</th>\n",
       "      <th>species</th>\n",
       "      <th>origin</th>\n",
       "      <th>standard</th>\n",
       "      <th>unit</th>\n",
       "      <th>amount</th>\n",
       "      <th>weight</th>\n",
       "      <th>avg_price</th>\n",
       "    </tr>\n",
       "  </thead>\n",
       "  <tbody>\n",
       "    <tr>\n",
       "      <th>count</th>\n",
       "      <td>32066</td>\n",
       "      <td>32066</td>\n",
       "      <td>32066</td>\n",
       "      <td>32066</td>\n",
       "      <td>32066</td>\n",
       "      <td>32066</td>\n",
       "      <td>32066</td>\n",
       "      <td>32066</td>\n",
       "    </tr>\n",
       "    <tr>\n",
       "      <th>unique</th>\n",
       "      <td>1533</td>\n",
       "      <td>4</td>\n",
       "      <td>18</td>\n",
       "      <td>107</td>\n",
       "      <td>7</td>\n",
       "      <td>511</td>\n",
       "      <td>12</td>\n",
       "      <td>619</td>\n",
       "    </tr>\n",
       "    <tr>\n",
       "      <th>top</th>\n",
       "      <td>2018-08-13</td>\n",
       "      <td>(활)전복</td>\n",
       "      <td>완도</td>\n",
       "      <td>12/13미</td>\n",
       "      <td>kg</td>\n",
       "      <td>11</td>\n",
       "      <td>1</td>\n",
       "      <td>23,000</td>\n",
       "    </tr>\n",
       "    <tr>\n",
       "      <th>freq</th>\n",
       "      <td>40</td>\n",
       "      <td>31517</td>\n",
       "      <td>31880</td>\n",
       "      <td>1621</td>\n",
       "      <td>31844</td>\n",
       "      <td>1600</td>\n",
       "      <td>32020</td>\n",
       "      <td>1023</td>\n",
       "    </tr>\n",
       "  </tbody>\n",
       "</table>\n",
       "</div>"
      ],
      "text/plain": [
       "              date species origin standard   unit amount weight avg_price\n",
       "count        32066   32066  32066    32066  32066  32066  32066     32066\n",
       "unique        1533       4     18      107      7    511     12       619\n",
       "top     2018-08-13   (활)전복     완도   12/13미     kg     11      1    23,000\n",
       "freq            40   31517  31880     1621  31844   1600  32020      1023"
      ]
     },
     "execution_count": 88,
     "metadata": {},
     "output_type": "execute_result"
    }
   ],
   "source": [
    "df.describe()"
   ]
  },
  {
   "cell_type": "code",
   "execution_count": 89,
   "metadata": {},
   "outputs": [
    {
     "data": {
      "text/html": [
       "<div>\n",
       "<style scoped>\n",
       "    .dataframe tbody tr th:only-of-type {\n",
       "        vertical-align: middle;\n",
       "    }\n",
       "\n",
       "    .dataframe tbody tr th {\n",
       "        vertical-align: top;\n",
       "    }\n",
       "\n",
       "    .dataframe thead th {\n",
       "        text-align: right;\n",
       "    }\n",
       "</style>\n",
       "<table border=\"1\" class=\"dataframe\">\n",
       "  <thead>\n",
       "    <tr style=\"text-align: right;\">\n",
       "      <th></th>\n",
       "      <th>date</th>\n",
       "      <th>species</th>\n",
       "      <th>origin</th>\n",
       "      <th>standard</th>\n",
       "      <th>unit</th>\n",
       "      <th>amount</th>\n",
       "      <th>weight</th>\n",
       "      <th>avg_price</th>\n",
       "    </tr>\n",
       "  </thead>\n",
       "  <tbody>\n",
       "    <tr>\n",
       "      <th>0</th>\n",
       "      <td>2017-01-02</td>\n",
       "      <td>(활)전복</td>\n",
       "      <td>완도</td>\n",
       "      <td>10/11미</td>\n",
       "      <td>kg</td>\n",
       "      <td>78</td>\n",
       "      <td>1</td>\n",
       "      <td>43,100</td>\n",
       "    </tr>\n",
       "    <tr>\n",
       "      <th>1</th>\n",
       "      <td>2017-01-02</td>\n",
       "      <td>(활)전복</td>\n",
       "      <td>완도</td>\n",
       "      <td>11/12미</td>\n",
       "      <td>kg</td>\n",
       "      <td>33</td>\n",
       "      <td>1</td>\n",
       "      <td>40,200</td>\n",
       "    </tr>\n",
       "    <tr>\n",
       "      <th>2</th>\n",
       "      <td>2017-01-02</td>\n",
       "      <td>(활)전복</td>\n",
       "      <td>완도</td>\n",
       "      <td>12/13미</td>\n",
       "      <td>kg</td>\n",
       "      <td>145</td>\n",
       "      <td>1</td>\n",
       "      <td>37,700</td>\n",
       "    </tr>\n",
       "    <tr>\n",
       "      <th>3</th>\n",
       "      <td>2017-01-02</td>\n",
       "      <td>(활)전복</td>\n",
       "      <td>완도</td>\n",
       "      <td>12미</td>\n",
       "      <td>kg</td>\n",
       "      <td>35</td>\n",
       "      <td>1</td>\n",
       "      <td>35,000</td>\n",
       "    </tr>\n",
       "    <tr>\n",
       "      <th>4</th>\n",
       "      <td>2017-01-02</td>\n",
       "      <td>(활)전복</td>\n",
       "      <td>완도</td>\n",
       "      <td>13/14미</td>\n",
       "      <td>kg</td>\n",
       "      <td>124</td>\n",
       "      <td>1</td>\n",
       "      <td>36,100</td>\n",
       "    </tr>\n",
       "  </tbody>\n",
       "</table>\n",
       "</div>"
      ],
      "text/plain": [
       "         date species origin standard unit amount weight avg_price\n",
       "0  2017-01-02   (활)전복     완도   10/11미   kg     78      1    43,100\n",
       "1  2017-01-02   (활)전복     완도   11/12미   kg     33      1    40,200\n",
       "2  2017-01-02   (활)전복     완도   12/13미   kg    145      1    37,700\n",
       "3  2017-01-02   (활)전복     완도      12미   kg     35      1    35,000\n",
       "4  2017-01-02   (활)전복     완도   13/14미   kg    124      1    36,100"
      ]
     },
     "execution_count": 89,
     "metadata": {},
     "output_type": "execute_result"
    }
   ],
   "source": [
    "df.head()"
   ]
  },
  {
   "cell_type": "markdown",
   "metadata": {},
   "source": [
    "## 데이터타입 변환"
   ]
  },
  {
   "cell_type": "code",
   "execution_count": 90,
   "metadata": {},
   "outputs": [],
   "source": [
    "df = df[df.date != '날짜']"
   ]
  },
  {
   "cell_type": "markdown",
   "metadata": {},
   "source": [
    "### 평균가에 , 기호 없애기"
   ]
  },
  {
   "cell_type": "code",
   "execution_count": 91,
   "metadata": {},
   "outputs": [],
   "source": [
    "df['avg_price'] = df.avg_price.str.replace(',', '').astype('int')"
   ]
  },
  {
   "cell_type": "markdown",
   "metadata": {},
   "source": [
    "### 중량에 , 기호 없애기 (중량 float로 변환)"
   ]
  },
  {
   "cell_type": "code",
   "execution_count": 92,
   "metadata": {},
   "outputs": [],
   "source": [
    "# df['weight'] = df.avg_price.str.replace(',', '').astype('float')\n",
    "df['weight'] = df['weight'].astype('float')"
   ]
  },
  {
   "cell_type": "markdown",
   "metadata": {},
   "source": [
    "### 수량에 , 기호 없애기"
   ]
  },
  {
   "cell_type": "code",
   "execution_count": 93,
   "metadata": {},
   "outputs": [],
   "source": [
    "df['amount'] = df.amount.str.replace(',', '').astype('int')"
   ]
  },
  {
   "cell_type": "code",
   "execution_count": 94,
   "metadata": {},
   "outputs": [
    {
     "data": {
      "text/plain": [
       "date          object\n",
       "species       object\n",
       "origin        object\n",
       "standard      object\n",
       "unit          object\n",
       "amount         int32\n",
       "weight       float64\n",
       "avg_price      int32\n",
       "dtype: object"
      ]
     },
     "execution_count": 94,
     "metadata": {},
     "output_type": "execute_result"
    }
   ],
   "source": [
    "df.dtypes"
   ]
  },
  {
   "cell_type": "markdown",
   "metadata": {},
   "source": [
    "### 날짜 데이터 년, 월, 일로 나누고 int형으로 변환"
   ]
  },
  {
   "cell_type": "code",
   "execution_count": 95,
   "metadata": {},
   "outputs": [],
   "source": [
    "df['yyyy'], df['mm'], df['dd'] = df['date'].str.split('-').str"
   ]
  },
  {
   "cell_type": "code",
   "execution_count": 96,
   "metadata": {},
   "outputs": [
    {
     "data": {
      "text/html": [
       "<div>\n",
       "<style scoped>\n",
       "    .dataframe tbody tr th:only-of-type {\n",
       "        vertical-align: middle;\n",
       "    }\n",
       "\n",
       "    .dataframe tbody tr th {\n",
       "        vertical-align: top;\n",
       "    }\n",
       "\n",
       "    .dataframe thead th {\n",
       "        text-align: right;\n",
       "    }\n",
       "</style>\n",
       "<table border=\"1\" class=\"dataframe\">\n",
       "  <thead>\n",
       "    <tr style=\"text-align: right;\">\n",
       "      <th></th>\n",
       "      <th>date</th>\n",
       "      <th>species</th>\n",
       "      <th>origin</th>\n",
       "      <th>standard</th>\n",
       "      <th>unit</th>\n",
       "      <th>amount</th>\n",
       "      <th>weight</th>\n",
       "      <th>avg_price</th>\n",
       "      <th>yyyy</th>\n",
       "      <th>mm</th>\n",
       "      <th>dd</th>\n",
       "    </tr>\n",
       "  </thead>\n",
       "  <tbody>\n",
       "    <tr>\n",
       "      <th>0</th>\n",
       "      <td>2017-01-02</td>\n",
       "      <td>(활)전복</td>\n",
       "      <td>완도</td>\n",
       "      <td>10/11미</td>\n",
       "      <td>kg</td>\n",
       "      <td>78</td>\n",
       "      <td>1.0</td>\n",
       "      <td>43100</td>\n",
       "      <td>2017</td>\n",
       "      <td>01</td>\n",
       "      <td>02</td>\n",
       "    </tr>\n",
       "    <tr>\n",
       "      <th>1</th>\n",
       "      <td>2017-01-02</td>\n",
       "      <td>(활)전복</td>\n",
       "      <td>완도</td>\n",
       "      <td>11/12미</td>\n",
       "      <td>kg</td>\n",
       "      <td>33</td>\n",
       "      <td>1.0</td>\n",
       "      <td>40200</td>\n",
       "      <td>2017</td>\n",
       "      <td>01</td>\n",
       "      <td>02</td>\n",
       "    </tr>\n",
       "    <tr>\n",
       "      <th>2</th>\n",
       "      <td>2017-01-02</td>\n",
       "      <td>(활)전복</td>\n",
       "      <td>완도</td>\n",
       "      <td>12/13미</td>\n",
       "      <td>kg</td>\n",
       "      <td>145</td>\n",
       "      <td>1.0</td>\n",
       "      <td>37700</td>\n",
       "      <td>2017</td>\n",
       "      <td>01</td>\n",
       "      <td>02</td>\n",
       "    </tr>\n",
       "    <tr>\n",
       "      <th>3</th>\n",
       "      <td>2017-01-02</td>\n",
       "      <td>(활)전복</td>\n",
       "      <td>완도</td>\n",
       "      <td>12미</td>\n",
       "      <td>kg</td>\n",
       "      <td>35</td>\n",
       "      <td>1.0</td>\n",
       "      <td>35000</td>\n",
       "      <td>2017</td>\n",
       "      <td>01</td>\n",
       "      <td>02</td>\n",
       "    </tr>\n",
       "    <tr>\n",
       "      <th>4</th>\n",
       "      <td>2017-01-02</td>\n",
       "      <td>(활)전복</td>\n",
       "      <td>완도</td>\n",
       "      <td>13/14미</td>\n",
       "      <td>kg</td>\n",
       "      <td>124</td>\n",
       "      <td>1.0</td>\n",
       "      <td>36100</td>\n",
       "      <td>2017</td>\n",
       "      <td>01</td>\n",
       "      <td>02</td>\n",
       "    </tr>\n",
       "  </tbody>\n",
       "</table>\n",
       "</div>"
      ],
      "text/plain": [
       "         date species origin standard unit  amount  weight  avg_price  yyyy  \\\n",
       "0  2017-01-02   (활)전복     완도   10/11미   kg      78     1.0      43100  2017   \n",
       "1  2017-01-02   (활)전복     완도   11/12미   kg      33     1.0      40200  2017   \n",
       "2  2017-01-02   (활)전복     완도   12/13미   kg     145     1.0      37700  2017   \n",
       "3  2017-01-02   (활)전복     완도      12미   kg      35     1.0      35000  2017   \n",
       "4  2017-01-02   (활)전복     완도   13/14미   kg     124     1.0      36100  2017   \n",
       "\n",
       "   mm  dd  \n",
       "0  01  02  \n",
       "1  01  02  \n",
       "2  01  02  \n",
       "3  01  02  \n",
       "4  01  02  "
      ]
     },
     "execution_count": 96,
     "metadata": {},
     "output_type": "execute_result"
    }
   ],
   "source": [
    "df.head()"
   ]
  },
  {
   "cell_type": "code",
   "execution_count": 97,
   "metadata": {},
   "outputs": [],
   "source": [
    "df = df.drop('date', axis=1)"
   ]
  },
  {
   "cell_type": "code",
   "execution_count": 98,
   "metadata": {},
   "outputs": [],
   "source": [
    "for i in ['yyyy', 'mm', 'dd']:\n",
    "  df[i] = list(map(int, df[i]))"
   ]
  },
  {
   "cell_type": "code",
   "execution_count": 99,
   "metadata": {},
   "outputs": [
    {
     "data": {
      "text/plain": [
       "species       object\n",
       "origin        object\n",
       "standard      object\n",
       "unit          object\n",
       "amount         int32\n",
       "weight       float64\n",
       "avg_price      int32\n",
       "yyyy           int64\n",
       "mm             int64\n",
       "dd             int64\n",
       "dtype: object"
      ]
     },
     "execution_count": 99,
     "metadata": {},
     "output_type": "execute_result"
    }
   ],
   "source": [
    "df.dtypes"
   ]
  },
  {
   "cell_type": "markdown",
   "metadata": {},
   "source": [
    "#### 년 / 월 / 일 별 가격변동"
   ]
  },
  {
   "cell_type": "code",
   "execution_count": 100,
   "metadata": {},
   "outputs": [
    {
     "data": {
      "text/plain": [
       "<AxesSubplot:xlabel='dd'>"
      ]
     },
     "execution_count": 100,
     "metadata": {},
     "output_type": "execute_result"
    },
    {
     "data": {
      "image/png": "[encoded data removed]",
      "text/plain": [
       "<Figure size 720x360 with 3 Axes>"
      ]
     },
     "metadata": {
      "needs_background": "light"
     },
     "output_type": "display_data"
    }
   ],
   "source": [
    "plt.figure(figsize=(10, 5))\n",
    "\n",
    "plt.subplot(131)\n",
    "Years = df.groupby('yyyy').mean()\n",
    "Years['avg_price'].plot(x=df.yyyy)\n",
    "plt.subplot(132)\n",
    "Months = df.groupby('mm').mean()\n",
    "Months['avg_price'].plot(x=df.mm)\n",
    "plt.subplot(133)\n",
    "Days = df.groupby('dd').mean()\n",
    "Days['avg_price'].plot(x=df.dd)"
   ]
  },
  {
   "cell_type": "markdown",
   "metadata": {},
   "source": [
    "#### 산지별 가격분포"
   ]
  },
  {
   "cell_type": "code",
   "execution_count": 101,
   "metadata": {},
   "outputs": [
    {
     "data": {
      "text/plain": [
       "Text(0, 0.5, 'origin')"
      ]
     },
     "execution_count": 101,
     "metadata": {},
     "output_type": "execute_result"
    },
    {
     "data": {
      "image/png": "[encoded data removed]",
      "text/plain": [
       "<Figure size 720x1080 with 1 Axes>"
      ]
     },
     "metadata": {
      "needs_background": "light"
     },
     "output_type": "display_data"
    }
   ],
   "source": [
    "plt.rcParams['font.family']= 'Malgun Gothic'\n",
    "\n",
    "plt.figure(figsize=(10, 15))\n",
    "sns.pointplot(x='avg_price', y='origin', data=df, join=False)\n",
    "plt.xticks(np.linspace(1, 2, 5))\n",
    "plt.xlabel('Average Price')\n",
    "plt.ylabel('origin')"
   ]
  },
  {
   "cell_type": "code",
   "execution_count": 102,
   "metadata": {},
   "outputs": [],
   "source": [
    "jb_pdf = df[df.species=='(활)전복']"
   ]
  },
  {
   "cell_type": "code",
   "execution_count": 103,
   "metadata": {},
   "outputs": [
    {
     "data": {
      "text/plain": [
       "Text(0, 0.5, 'origin')"
      ]
     },
     "execution_count": 103,
     "metadata": {},
     "output_type": "execute_result"
    },
    {
     "data": {
      "image/png": "[encoded data removed]",
      "text/plain": [
       "<Figure size 720x1080 with 1 Axes>"
      ]
     },
     "metadata": {
      "needs_background": "light"
     },
     "output_type": "display_data"
    }
   ],
   "source": [
    "plt.rcParams['font.family']= 'Malgun Gothic'\n",
    "\n",
    "plt.figure(figsize=(10, 15))\n",
    "sns.pointplot(x='avg_price', y='origin', data=jb_pdf, join=False)\n",
    "plt.xticks(np.linspace(1, 2, 5))\n",
    "plt.xlabel('Average Price')\n",
    "plt.ylabel('origin')"
   ]
  },
  {
   "cell_type": "code",
   "execution_count": 104,
   "metadata": {},
   "outputs": [
    {
     "data": {
      "text/html": [
       "<div>\n",
       "<style scoped>\n",
       "    .dataframe tbody tr th:only-of-type {\n",
       "        vertical-align: middle;\n",
       "    }\n",
       "\n",
       "    .dataframe tbody tr th {\n",
       "        vertical-align: top;\n",
       "    }\n",
       "\n",
       "    .dataframe thead th {\n",
       "        text-align: right;\n",
       "    }\n",
       "</style>\n",
       "<table border=\"1\" class=\"dataframe\">\n",
       "  <thead>\n",
       "    <tr style=\"text-align: right;\">\n",
       "      <th></th>\n",
       "      <th>species</th>\n",
       "      <th>origin</th>\n",
       "      <th>standard</th>\n",
       "      <th>unit</th>\n",
       "      <th>amount</th>\n",
       "      <th>weight</th>\n",
       "      <th>avg_price</th>\n",
       "      <th>yyyy</th>\n",
       "      <th>mm</th>\n",
       "      <th>dd</th>\n",
       "    </tr>\n",
       "  </thead>\n",
       "  <tbody>\n",
       "    <tr>\n",
       "      <th>0</th>\n",
       "      <td>(활)전복</td>\n",
       "      <td>완도</td>\n",
       "      <td>10/11미</td>\n",
       "      <td>kg</td>\n",
       "      <td>78</td>\n",
       "      <td>1.0</td>\n",
       "      <td>43100</td>\n",
       "      <td>2017</td>\n",
       "      <td>1</td>\n",
       "      <td>2</td>\n",
       "    </tr>\n",
       "    <tr>\n",
       "      <th>1</th>\n",
       "      <td>(활)전복</td>\n",
       "      <td>완도</td>\n",
       "      <td>11/12미</td>\n",
       "      <td>kg</td>\n",
       "      <td>33</td>\n",
       "      <td>1.0</td>\n",
       "      <td>40200</td>\n",
       "      <td>2017</td>\n",
       "      <td>1</td>\n",
       "      <td>2</td>\n",
       "    </tr>\n",
       "    <tr>\n",
       "      <th>2</th>\n",
       "      <td>(활)전복</td>\n",
       "      <td>완도</td>\n",
       "      <td>12/13미</td>\n",
       "      <td>kg</td>\n",
       "      <td>145</td>\n",
       "      <td>1.0</td>\n",
       "      <td>37700</td>\n",
       "      <td>2017</td>\n",
       "      <td>1</td>\n",
       "      <td>2</td>\n",
       "    </tr>\n",
       "    <tr>\n",
       "      <th>3</th>\n",
       "      <td>(활)전복</td>\n",
       "      <td>완도</td>\n",
       "      <td>12미</td>\n",
       "      <td>kg</td>\n",
       "      <td>35</td>\n",
       "      <td>1.0</td>\n",
       "      <td>35000</td>\n",
       "      <td>2017</td>\n",
       "      <td>1</td>\n",
       "      <td>2</td>\n",
       "    </tr>\n",
       "    <tr>\n",
       "      <th>4</th>\n",
       "      <td>(활)전복</td>\n",
       "      <td>완도</td>\n",
       "      <td>13/14미</td>\n",
       "      <td>kg</td>\n",
       "      <td>124</td>\n",
       "      <td>1.0</td>\n",
       "      <td>36100</td>\n",
       "      <td>2017</td>\n",
       "      <td>1</td>\n",
       "      <td>2</td>\n",
       "    </tr>\n",
       "  </tbody>\n",
       "</table>\n",
       "</div>"
      ],
      "text/plain": [
       "  species origin standard unit  amount  weight  avg_price  yyyy  mm  dd\n",
       "0   (활)전복     완도   10/11미   kg      78     1.0      43100  2017   1   2\n",
       "1   (활)전복     완도   11/12미   kg      33     1.0      40200  2017   1   2\n",
       "2   (활)전복     완도   12/13미   kg     145     1.0      37700  2017   1   2\n",
       "3   (활)전복     완도      12미   kg      35     1.0      35000  2017   1   2\n",
       "4   (활)전복     완도   13/14미   kg     124     1.0      36100  2017   1   2"
      ]
     },
     "execution_count": 104,
     "metadata": {},
     "output_type": "execute_result"
    }
   ],
   "source": [
    "jb_pdf.head()"
   ]
  },
  {
   "cell_type": "code",
   "execution_count": 105,
   "metadata": {},
   "outputs": [
    {
     "data": {
      "text/plain": [
       "31517"
      ]
     },
     "execution_count": 105,
     "metadata": {},
     "output_type": "execute_result"
    }
   ],
   "source": [
    "jb_pdf['origin'].count()"
   ]
  },
  {
   "cell_type": "code",
   "execution_count": 106,
   "metadata": {},
   "outputs": [
    {
     "data": {
      "text/plain": [
       "완도     31341\n",
       "서산        48\n",
       "대천        35\n",
       "군산        30\n",
       "격포        13\n",
       "안흥        12\n",
       "안면도        8\n",
       "보령         6\n",
       "연평도        6\n",
       "마산         5\n",
       "부안         4\n",
       "고흥         4\n",
       "여수         3\n",
       "중국         1\n",
       "속초         1\n",
       "Name: origin, dtype: int64"
      ]
     },
     "execution_count": 106,
     "metadata": {},
     "output_type": "execute_result"
    }
   ],
   "source": [
    "jb_pdf['origin'].value_counts()"
   ]
  },
  {
   "cell_type": "markdown",
   "metadata": {},
   "source": [
    "### 10자리 이하를 제외한 완도, 서산, 대천, 군산, 격포, 안흥만을 쿼리\n",
    "-> 완도가 압도적으로 많이 차지하고 있어서 데이터 크게 편향적일 수 있음"
   ]
  },
  {
   "cell_type": "code",
   "execution_count": 107,
   "metadata": {},
   "outputs": [],
   "source": [
    "origin_mask = (jb_pdf.origin == '완도')|(jb_pdf.origin == '서산')|(jb_pdf.origin == '대천')|(jb_pdf.origin == '군산')|(jb_pdf.origin == '격포')|(jb_pdf.origin == '안흥')\n",
    "\n",
    "jb_pdf = jb_pdf.loc[origin_mask, :]"
   ]
  },
  {
   "cell_type": "code",
   "execution_count": 108,
   "metadata": {},
   "outputs": [
    {
     "data": {
      "text/plain": [
       "완도    31341\n",
       "서산       48\n",
       "대천       35\n",
       "군산       30\n",
       "격포       13\n",
       "안흥       12\n",
       "Name: origin, dtype: int64"
      ]
     },
     "execution_count": 108,
     "metadata": {},
     "output_type": "execute_result"
    }
   ],
   "source": [
    "jb_pdf['origin'].value_counts()"
   ]
  },
  {
   "cell_type": "code",
   "execution_count": 109,
   "metadata": {},
   "outputs": [
    {
     "data": {
      "text/plain": [
       "12/13미    1620\n",
       "13/14미    1611\n",
       "11/12미    1601\n",
       "14/15미    1598\n",
       "15/16미    1591\n",
       "          ... \n",
       "1미           1\n",
       "2미           1\n",
       "37미          1\n",
       "10/12        1\n",
       "85미          1\n",
       "Name: standard, Length: 102, dtype: int64"
      ]
     },
     "execution_count": 109,
     "metadata": {},
     "output_type": "execute_result"
    }
   ],
   "source": [
    "jb_pdf['standard'].value_counts()"
   ]
  },
  {
   "cell_type": "code",
   "execution_count": 111,
   "metadata": {},
   "outputs": [
    {
     "data": {
      "text/html": [
       "<div>\n",
       "<style scoped>\n",
       "    .dataframe tbody tr th:only-of-type {\n",
       "        vertical-align: middle;\n",
       "    }\n",
       "\n",
       "    .dataframe tbody tr th {\n",
       "        vertical-align: top;\n",
       "    }\n",
       "\n",
       "    .dataframe thead th {\n",
       "        text-align: right;\n",
       "    }\n",
       "</style>\n",
       "<table border=\"1\" class=\"dataframe\">\n",
       "  <thead>\n",
       "    <tr style=\"text-align: right;\">\n",
       "      <th></th>\n",
       "      <th>species</th>\n",
       "      <th>origin</th>\n",
       "      <th>standard</th>\n",
       "      <th>unit</th>\n",
       "      <th>amount</th>\n",
       "      <th>weight</th>\n",
       "      <th>avg_price</th>\n",
       "      <th>yyyy</th>\n",
       "      <th>mm</th>\n",
       "      <th>dd</th>\n",
       "    </tr>\n",
       "  </thead>\n",
       "  <tbody>\n",
       "    <tr>\n",
       "      <th>2</th>\n",
       "      <td>(활)전복</td>\n",
       "      <td>완도</td>\n",
       "      <td>12/13미</td>\n",
       "      <td>kg</td>\n",
       "      <td>145</td>\n",
       "      <td>1.0</td>\n",
       "      <td>37700</td>\n",
       "      <td>2017</td>\n",
       "      <td>1</td>\n",
       "      <td>2</td>\n",
       "    </tr>\n",
       "    <tr>\n",
       "      <th>23</th>\n",
       "      <td>(활)전복</td>\n",
       "      <td>완도</td>\n",
       "      <td>12/13미</td>\n",
       "      <td>kg</td>\n",
       "      <td>181</td>\n",
       "      <td>1.0</td>\n",
       "      <td>34900</td>\n",
       "      <td>2017</td>\n",
       "      <td>1</td>\n",
       "      <td>3</td>\n",
       "    </tr>\n",
       "    <tr>\n",
       "      <th>45</th>\n",
       "      <td>(활)전복</td>\n",
       "      <td>완도</td>\n",
       "      <td>12/13미</td>\n",
       "      <td>kg</td>\n",
       "      <td>144</td>\n",
       "      <td>1.0</td>\n",
       "      <td>33900</td>\n",
       "      <td>2017</td>\n",
       "      <td>1</td>\n",
       "      <td>4</td>\n",
       "    </tr>\n",
       "    <tr>\n",
       "      <th>64</th>\n",
       "      <td>(활)전복</td>\n",
       "      <td>완도</td>\n",
       "      <td>12/13미</td>\n",
       "      <td>kg</td>\n",
       "      <td>311</td>\n",
       "      <td>1.0</td>\n",
       "      <td>30300</td>\n",
       "      <td>2017</td>\n",
       "      <td>1</td>\n",
       "      <td>5</td>\n",
       "    </tr>\n",
       "    <tr>\n",
       "      <th>85</th>\n",
       "      <td>(활)전복</td>\n",
       "      <td>완도</td>\n",
       "      <td>12/13미</td>\n",
       "      <td>kg</td>\n",
       "      <td>152</td>\n",
       "      <td>1.0</td>\n",
       "      <td>31000</td>\n",
       "      <td>2017</td>\n",
       "      <td>1</td>\n",
       "      <td>6</td>\n",
       "    </tr>\n",
       "    <tr>\n",
       "      <th>...</th>\n",
       "      <td>...</td>\n",
       "      <td>...</td>\n",
       "      <td>...</td>\n",
       "      <td>...</td>\n",
       "      <td>...</td>\n",
       "      <td>...</td>\n",
       "      <td>...</td>\n",
       "      <td>...</td>\n",
       "      <td>...</td>\n",
       "      <td>...</td>\n",
       "    </tr>\n",
       "    <tr>\n",
       "      <th>31969</th>\n",
       "      <td>(활)전복</td>\n",
       "      <td>완도</td>\n",
       "      <td>12/13미</td>\n",
       "      <td>kg</td>\n",
       "      <td>57</td>\n",
       "      <td>1.0</td>\n",
       "      <td>26800</td>\n",
       "      <td>2021</td>\n",
       "      <td>12</td>\n",
       "      <td>27</td>\n",
       "    </tr>\n",
       "    <tr>\n",
       "      <th>31989</th>\n",
       "      <td>(활)전복</td>\n",
       "      <td>완도</td>\n",
       "      <td>12/13미</td>\n",
       "      <td>kg</td>\n",
       "      <td>22</td>\n",
       "      <td>1.0</td>\n",
       "      <td>28000</td>\n",
       "      <td>2021</td>\n",
       "      <td>12</td>\n",
       "      <td>28</td>\n",
       "    </tr>\n",
       "    <tr>\n",
       "      <th>32009</th>\n",
       "      <td>(활)전복</td>\n",
       "      <td>완도</td>\n",
       "      <td>12/13미</td>\n",
       "      <td>kg</td>\n",
       "      <td>104</td>\n",
       "      <td>1.0</td>\n",
       "      <td>26700</td>\n",
       "      <td>2021</td>\n",
       "      <td>12</td>\n",
       "      <td>29</td>\n",
       "    </tr>\n",
       "    <tr>\n",
       "      <th>32030</th>\n",
       "      <td>(활)전복</td>\n",
       "      <td>완도</td>\n",
       "      <td>12/13미</td>\n",
       "      <td>kg</td>\n",
       "      <td>34</td>\n",
       "      <td>1.0</td>\n",
       "      <td>27700</td>\n",
       "      <td>2021</td>\n",
       "      <td>12</td>\n",
       "      <td>30</td>\n",
       "    </tr>\n",
       "    <tr>\n",
       "      <th>32049</th>\n",
       "      <td>(활)전복</td>\n",
       "      <td>완도</td>\n",
       "      <td>12/13미</td>\n",
       "      <td>kg</td>\n",
       "      <td>67</td>\n",
       "      <td>1.0</td>\n",
       "      <td>28200</td>\n",
       "      <td>2021</td>\n",
       "      <td>12</td>\n",
       "      <td>31</td>\n",
       "    </tr>\n",
       "  </tbody>\n",
       "</table>\n",
       "<p>1620 rows × 10 columns</p>\n",
       "</div>"
      ],
      "text/plain": [
       "      species origin standard unit  amount  weight  avg_price  yyyy  mm  dd\n",
       "2       (활)전복     완도   12/13미   kg     145     1.0      37700  2017   1   2\n",
       "23      (활)전복     완도   12/13미   kg     181     1.0      34900  2017   1   3\n",
       "45      (활)전복     완도   12/13미   kg     144     1.0      33900  2017   1   4\n",
       "64      (활)전복     완도   12/13미   kg     311     1.0      30300  2017   1   5\n",
       "85      (활)전복     완도   12/13미   kg     152     1.0      31000  2017   1   6\n",
       "...       ...    ...      ...  ...     ...     ...        ...   ...  ..  ..\n",
       "31969   (활)전복     완도   12/13미   kg      57     1.0      26800  2021  12  27\n",
       "31989   (활)전복     완도   12/13미   kg      22     1.0      28000  2021  12  28\n",
       "32009   (활)전복     완도   12/13미   kg     104     1.0      26700  2021  12  29\n",
       "32030   (활)전복     완도   12/13미   kg      34     1.0      27700  2021  12  30\n",
       "32049   (활)전복     완도   12/13미   kg      67     1.0      28200  2021  12  31\n",
       "\n",
       "[1620 rows x 10 columns]"
      ]
     },
     "execution_count": 111,
     "metadata": {},
     "output_type": "execute_result"
    }
   ],
   "source": [
    "jb_pdf[jb_pdf.standard=='12/13미']"
   ]
  },
  {
   "cell_type": "code",
   "execution_count": 112,
   "metadata": {},
   "outputs": [],
   "source": [
    "standard_mask = (jb_pdf.standard == '12/13미')|(jb_pdf.standard == '13/14미')|(jb_pdf.standard == '11/12미')|(jb_pdf.standard == '14/15미')\n",
    "\n",
    "\n",
    "jb_pdf = jb_pdf.loc[standard_mask, :]"
   ]
  },
  {
   "cell_type": "code",
   "execution_count": 113,
   "metadata": {},
   "outputs": [
    {
     "data": {
      "text/plain": [
       "12/13미    1620\n",
       "13/14미    1611\n",
       "11/12미    1601\n",
       "14/15미    1598\n",
       "Name: standard, dtype: int64"
      ]
     },
     "execution_count": 113,
     "metadata": {},
     "output_type": "execute_result"
    }
   ],
   "source": [
    "jb_pdf['standard'].value_counts()"
   ]
  },
  {
   "cell_type": "markdown",
   "metadata": {},
   "source": [
    "#### 추려낸 위 규격에서 가장 많은 포장을 차지하는 kg 포장으로 단일화"
   ]
  },
  {
   "cell_type": "code",
   "execution_count": 116,
   "metadata": {},
   "outputs": [
    {
     "data": {
      "text/plain": [
       "kg       6394\n",
       "S/P        17\n",
       "가구         12\n",
       "box         6\n",
       "미(마리)       1\n",
       "Name: unit, dtype: int64"
      ]
     },
     "execution_count": 116,
     "metadata": {},
     "output_type": "execute_result"
    }
   ],
   "source": [
    "jb_pdf['unit'].value_counts()"
   ]
  },
  {
   "cell_type": "code",
   "execution_count": 118,
   "metadata": {},
   "outputs": [],
   "source": [
    "jb_pdf = jb_pdf[jb_pdf.unit == 'kg']"
   ]
  },
  {
   "cell_type": "code",
   "execution_count": 119,
   "metadata": {},
   "outputs": [
    {
     "data": {
      "text/html": [
       "<div>\n",
       "<style scoped>\n",
       "    .dataframe tbody tr th:only-of-type {\n",
       "        vertical-align: middle;\n",
       "    }\n",
       "\n",
       "    .dataframe tbody tr th {\n",
       "        vertical-align: top;\n",
       "    }\n",
       "\n",
       "    .dataframe thead th {\n",
       "        text-align: right;\n",
       "    }\n",
       "</style>\n",
       "<table border=\"1\" class=\"dataframe\">\n",
       "  <thead>\n",
       "    <tr style=\"text-align: right;\">\n",
       "      <th></th>\n",
       "      <th>species</th>\n",
       "      <th>origin</th>\n",
       "      <th>standard</th>\n",
       "      <th>unit</th>\n",
       "      <th>amount</th>\n",
       "      <th>weight</th>\n",
       "      <th>avg_price</th>\n",
       "      <th>yyyy</th>\n",
       "      <th>mm</th>\n",
       "      <th>dd</th>\n",
       "    </tr>\n",
       "  </thead>\n",
       "  <tbody>\n",
       "    <tr>\n",
       "      <th>1</th>\n",
       "      <td>(활)전복</td>\n",
       "      <td>완도</td>\n",
       "      <td>11/12미</td>\n",
       "      <td>kg</td>\n",
       "      <td>33</td>\n",
       "      <td>1.0</td>\n",
       "      <td>40200</td>\n",
       "      <td>2017</td>\n",
       "      <td>1</td>\n",
       "      <td>2</td>\n",
       "    </tr>\n",
       "    <tr>\n",
       "      <th>2</th>\n",
       "      <td>(활)전복</td>\n",
       "      <td>완도</td>\n",
       "      <td>12/13미</td>\n",
       "      <td>kg</td>\n",
       "      <td>145</td>\n",
       "      <td>1.0</td>\n",
       "      <td>37700</td>\n",
       "      <td>2017</td>\n",
       "      <td>1</td>\n",
       "      <td>2</td>\n",
       "    </tr>\n",
       "    <tr>\n",
       "      <th>4</th>\n",
       "      <td>(활)전복</td>\n",
       "      <td>완도</td>\n",
       "      <td>13/14미</td>\n",
       "      <td>kg</td>\n",
       "      <td>124</td>\n",
       "      <td>1.0</td>\n",
       "      <td>36100</td>\n",
       "      <td>2017</td>\n",
       "      <td>1</td>\n",
       "      <td>2</td>\n",
       "    </tr>\n",
       "  </tbody>\n",
       "</table>\n",
       "</div>"
      ],
      "text/plain": [
       "  species origin standard unit  amount  weight  avg_price  yyyy  mm  dd\n",
       "1   (활)전복     완도   11/12미   kg      33     1.0      40200  2017   1   2\n",
       "2   (활)전복     완도   12/13미   kg     145     1.0      37700  2017   1   2\n",
       "4   (활)전복     완도   13/14미   kg     124     1.0      36100  2017   1   2"
      ]
     },
     "execution_count": 119,
     "metadata": {},
     "output_type": "execute_result"
    }
   ],
   "source": [
    "jb_pdf.head(3)"
   ]
  },
  {
   "cell_type": "code",
   "execution_count": 120,
   "metadata": {},
   "outputs": [
    {
     "data": {
      "text/html": [
       "<div>\n",
       "<style scoped>\n",
       "    .dataframe tbody tr th:only-of-type {\n",
       "        vertical-align: middle;\n",
       "    }\n",
       "\n",
       "    .dataframe tbody tr th {\n",
       "        vertical-align: top;\n",
       "    }\n",
       "\n",
       "    .dataframe thead th {\n",
       "        text-align: right;\n",
       "    }\n",
       "</style>\n",
       "<table border=\"1\" class=\"dataframe\">\n",
       "  <thead>\n",
       "    <tr style=\"text-align: right;\">\n",
       "      <th></th>\n",
       "      <th>species</th>\n",
       "      <th>origin</th>\n",
       "      <th>standard</th>\n",
       "      <th>unit</th>\n",
       "      <th>amount</th>\n",
       "      <th>weight</th>\n",
       "      <th>avg_price</th>\n",
       "      <th>yyyy</th>\n",
       "      <th>mm</th>\n",
       "      <th>dd</th>\n",
       "    </tr>\n",
       "  </thead>\n",
       "  <tbody>\n",
       "  </tbody>\n",
       "</table>\n",
       "</div>"
      ],
      "text/plain": [
       "Empty DataFrame\n",
       "Columns: [species, origin, standard, unit, amount, weight, avg_price, yyyy, mm, dd]\n",
       "Index: []"
      ]
     },
     "execution_count": 120,
     "metadata": {},
     "output_type": "execute_result"
    }
   ],
   "source": [
    "jb_pdf[jb_pdf.unit != 'kg']"
   ]
  },
  {
   "cell_type": "code",
   "execution_count": 121,
   "metadata": {},
   "outputs": [
    {
     "data": {
      "text/html": [
       "<div>\n",
       "<style scoped>\n",
       "    .dataframe tbody tr th:only-of-type {\n",
       "        vertical-align: middle;\n",
       "    }\n",
       "\n",
       "    .dataframe tbody tr th {\n",
       "        vertical-align: top;\n",
       "    }\n",
       "\n",
       "    .dataframe thead th {\n",
       "        text-align: right;\n",
       "    }\n",
       "</style>\n",
       "<table border=\"1\" class=\"dataframe\">\n",
       "  <thead>\n",
       "    <tr style=\"text-align: right;\">\n",
       "      <th></th>\n",
       "      <th>origin</th>\n",
       "      <th>standard</th>\n",
       "      <th>amount</th>\n",
       "      <th>weight</th>\n",
       "      <th>avg_price</th>\n",
       "      <th>yyyy</th>\n",
       "      <th>mm</th>\n",
       "      <th>dd</th>\n",
       "    </tr>\n",
       "  </thead>\n",
       "  <tbody>\n",
       "    <tr>\n",
       "      <th>1</th>\n",
       "      <td>완도</td>\n",
       "      <td>11/12미</td>\n",
       "      <td>33</td>\n",
       "      <td>1.0</td>\n",
       "      <td>40200</td>\n",
       "      <td>2017</td>\n",
       "      <td>1</td>\n",
       "      <td>2</td>\n",
       "    </tr>\n",
       "    <tr>\n",
       "      <th>2</th>\n",
       "      <td>완도</td>\n",
       "      <td>12/13미</td>\n",
       "      <td>145</td>\n",
       "      <td>1.0</td>\n",
       "      <td>37700</td>\n",
       "      <td>2017</td>\n",
       "      <td>1</td>\n",
       "      <td>2</td>\n",
       "    </tr>\n",
       "    <tr>\n",
       "      <th>4</th>\n",
       "      <td>완도</td>\n",
       "      <td>13/14미</td>\n",
       "      <td>124</td>\n",
       "      <td>1.0</td>\n",
       "      <td>36100</td>\n",
       "      <td>2017</td>\n",
       "      <td>1</td>\n",
       "      <td>2</td>\n",
       "    </tr>\n",
       "    <tr>\n",
       "      <th>5</th>\n",
       "      <td>완도</td>\n",
       "      <td>14/15미</td>\n",
       "      <td>99</td>\n",
       "      <td>1.0</td>\n",
       "      <td>35000</td>\n",
       "      <td>2017</td>\n",
       "      <td>1</td>\n",
       "      <td>2</td>\n",
       "    </tr>\n",
       "    <tr>\n",
       "      <th>22</th>\n",
       "      <td>완도</td>\n",
       "      <td>11/12미</td>\n",
       "      <td>139</td>\n",
       "      <td>1.0</td>\n",
       "      <td>34700</td>\n",
       "      <td>2017</td>\n",
       "      <td>1</td>\n",
       "      <td>3</td>\n",
       "    </tr>\n",
       "  </tbody>\n",
       "</table>\n",
       "</div>"
      ],
      "text/plain": [
       "   origin standard  amount  weight  avg_price  yyyy  mm  dd\n",
       "1      완도   11/12미      33     1.0      40200  2017   1   2\n",
       "2      완도   12/13미     145     1.0      37700  2017   1   2\n",
       "4      완도   13/14미     124     1.0      36100  2017   1   2\n",
       "5      완도   14/15미      99     1.0      35000  2017   1   2\n",
       "22     완도   11/12미     139     1.0      34700  2017   1   3"
      ]
     },
     "execution_count": 121,
     "metadata": {},
     "output_type": "execute_result"
    }
   ],
   "source": [
    "jb_pdf = jb_pdf.drop(['species', 'unit'], axis=1)\n",
    "\n",
    "jb_pdf.head()"
   ]
  },
  {
   "cell_type": "markdown",
   "metadata": {},
   "source": [
    "### 범주형 데이터 OHE 수행"
   ]
  },
  {
   "cell_type": "code",
   "execution_count": 122,
   "metadata": {},
   "outputs": [],
   "source": [
    "jb_pdf = pd.get_dummies(jb_pdf, columns=['origin', 'standard'])"
   ]
  },
  {
   "cell_type": "code",
   "execution_count": 123,
   "metadata": {},
   "outputs": [
    {
     "data": {
      "text/html": [
       "<div>\n",
       "<style scoped>\n",
       "    .dataframe tbody tr th:only-of-type {\n",
       "        vertical-align: middle;\n",
       "    }\n",
       "\n",
       "    .dataframe tbody tr th {\n",
       "        vertical-align: top;\n",
       "    }\n",
       "\n",
       "    .dataframe thead th {\n",
       "        text-align: right;\n",
       "    }\n",
       "</style>\n",
       "<table border=\"1\" class=\"dataframe\">\n",
       "  <thead>\n",
       "    <tr style=\"text-align: right;\">\n",
       "      <th></th>\n",
       "      <th>amount</th>\n",
       "      <th>weight</th>\n",
       "      <th>avg_price</th>\n",
       "      <th>yyyy</th>\n",
       "      <th>mm</th>\n",
       "      <th>dd</th>\n",
       "      <th>origin_격포</th>\n",
       "      <th>origin_군산</th>\n",
       "      <th>origin_대천</th>\n",
       "      <th>origin_완도</th>\n",
       "      <th>standard_11/12미</th>\n",
       "      <th>standard_12/13미</th>\n",
       "      <th>standard_13/14미</th>\n",
       "      <th>standard_14/15미</th>\n",
       "    </tr>\n",
       "  </thead>\n",
       "  <tbody>\n",
       "    <tr>\n",
       "      <th>1</th>\n",
       "      <td>33</td>\n",
       "      <td>1.0</td>\n",
       "      <td>40200</td>\n",
       "      <td>2017</td>\n",
       "      <td>1</td>\n",
       "      <td>2</td>\n",
       "      <td>0</td>\n",
       "      <td>0</td>\n",
       "      <td>0</td>\n",
       "      <td>1</td>\n",
       "      <td>1</td>\n",
       "      <td>0</td>\n",
       "      <td>0</td>\n",
       "      <td>0</td>\n",
       "    </tr>\n",
       "    <tr>\n",
       "      <th>2</th>\n",
       "      <td>145</td>\n",
       "      <td>1.0</td>\n",
       "      <td>37700</td>\n",
       "      <td>2017</td>\n",
       "      <td>1</td>\n",
       "      <td>2</td>\n",
       "      <td>0</td>\n",
       "      <td>0</td>\n",
       "      <td>0</td>\n",
       "      <td>1</td>\n",
       "      <td>0</td>\n",
       "      <td>1</td>\n",
       "      <td>0</td>\n",
       "      <td>0</td>\n",
       "    </tr>\n",
       "    <tr>\n",
       "      <th>4</th>\n",
       "      <td>124</td>\n",
       "      <td>1.0</td>\n",
       "      <td>36100</td>\n",
       "      <td>2017</td>\n",
       "      <td>1</td>\n",
       "      <td>2</td>\n",
       "      <td>0</td>\n",
       "      <td>0</td>\n",
       "      <td>0</td>\n",
       "      <td>1</td>\n",
       "      <td>0</td>\n",
       "      <td>0</td>\n",
       "      <td>1</td>\n",
       "      <td>0</td>\n",
       "    </tr>\n",
       "  </tbody>\n",
       "</table>\n",
       "</div>"
      ],
      "text/plain": [
       "   amount  weight  avg_price  yyyy  mm  dd  origin_격포  origin_군산  origin_대천  \\\n",
       "1      33     1.0      40200  2017   1   2          0          0          0   \n",
       "2     145     1.0      37700  2017   1   2          0          0          0   \n",
       "4     124     1.0      36100  2017   1   2          0          0          0   \n",
       "\n",
       "   origin_완도  standard_11/12미  standard_12/13미  standard_13/14미  \\\n",
       "1          1                1                0                0   \n",
       "2          1                0                1                0   \n",
       "4          1                0                0                1   \n",
       "\n",
       "   standard_14/15미  \n",
       "1                0  \n",
       "2                0  \n",
       "4                0  "
      ]
     },
     "execution_count": 123,
     "metadata": {},
     "output_type": "execute_result"
    }
   ],
   "source": [
    "jb_pdf.head(3)"
   ]
  },
  {
   "cell_type": "code",
   "execution_count": 126,
   "metadata": {},
   "outputs": [
    {
     "data": {
      "text/plain": [
       "14"
      ]
     },
     "execution_count": 126,
     "metadata": {},
     "output_type": "execute_result"
    }
   ],
   "source": [
    "len(jb_pdf.columns)"
   ]
  },
  {
   "cell_type": "code",
   "execution_count": 124,
   "metadata": {},
   "outputs": [
    {
     "data": {
      "text/html": [
       "<div>\n",
       "<style scoped>\n",
       "    .dataframe tbody tr th:only-of-type {\n",
       "        vertical-align: middle;\n",
       "    }\n",
       "\n",
       "    .dataframe tbody tr th {\n",
       "        vertical-align: top;\n",
       "    }\n",
       "\n",
       "    .dataframe thead th {\n",
       "        text-align: right;\n",
       "    }\n",
       "</style>\n",
       "<table border=\"1\" class=\"dataframe\">\n",
       "  <thead>\n",
       "    <tr style=\"text-align: right;\">\n",
       "      <th></th>\n",
       "      <th>amount</th>\n",
       "      <th>weight</th>\n",
       "      <th>avg_price</th>\n",
       "      <th>yyyy</th>\n",
       "      <th>mm</th>\n",
       "      <th>dd</th>\n",
       "      <th>origin_격포</th>\n",
       "      <th>origin_군산</th>\n",
       "      <th>origin_대천</th>\n",
       "      <th>origin_완도</th>\n",
       "      <th>standard_11/12미</th>\n",
       "      <th>standard_12/13미</th>\n",
       "      <th>standard_13/14미</th>\n",
       "      <th>standard_14/15미</th>\n",
       "    </tr>\n",
       "  </thead>\n",
       "  <tbody>\n",
       "    <tr>\n",
       "      <th>count</th>\n",
       "      <td>6394.000000</td>\n",
       "      <td>6394.000000</td>\n",
       "      <td>6394.000000</td>\n",
       "      <td>6394.000000</td>\n",
       "      <td>6394.000000</td>\n",
       "      <td>6394.000000</td>\n",
       "      <td>6394.000000</td>\n",
       "      <td>6394.000000</td>\n",
       "      <td>6394.000000</td>\n",
       "      <td>6394.000000</td>\n",
       "      <td>6394.000000</td>\n",
       "      <td>6394.000000</td>\n",
       "      <td>6394.000000</td>\n",
       "      <td>6394.000000</td>\n",
       "    </tr>\n",
       "    <tr>\n",
       "      <th>mean</th>\n",
       "      <td>144.689865</td>\n",
       "      <td>1.006741</td>\n",
       "      <td>24296.027526</td>\n",
       "      <td>2018.946669</td>\n",
       "      <td>6.598061</td>\n",
       "      <td>15.711448</td>\n",
       "      <td>0.000156</td>\n",
       "      <td>0.000156</td>\n",
       "      <td>0.000626</td>\n",
       "      <td>0.999062</td>\n",
       "      <td>0.248827</td>\n",
       "      <td>0.251799</td>\n",
       "      <td>0.250547</td>\n",
       "      <td>0.248827</td>\n",
       "    </tr>\n",
       "    <tr>\n",
       "      <th>std</th>\n",
       "      <td>83.133829</td>\n",
       "      <td>0.254169</td>\n",
       "      <td>3411.869563</td>\n",
       "      <td>1.392299</td>\n",
       "      <td>3.368058</td>\n",
       "      <td>8.742243</td>\n",
       "      <td>0.012506</td>\n",
       "      <td>0.012506</td>\n",
       "      <td>0.025006</td>\n",
       "      <td>0.030621</td>\n",
       "      <td>0.432367</td>\n",
       "      <td>0.434080</td>\n",
       "      <td>0.433362</td>\n",
       "      <td>0.432367</td>\n",
       "    </tr>\n",
       "    <tr>\n",
       "      <th>min</th>\n",
       "      <td>1.000000</td>\n",
       "      <td>1.000000</td>\n",
       "      <td>13300.000000</td>\n",
       "      <td>2017.000000</td>\n",
       "      <td>1.000000</td>\n",
       "      <td>1.000000</td>\n",
       "      <td>0.000000</td>\n",
       "      <td>0.000000</td>\n",
       "      <td>0.000000</td>\n",
       "      <td>0.000000</td>\n",
       "      <td>0.000000</td>\n",
       "      <td>0.000000</td>\n",
       "      <td>0.000000</td>\n",
       "      <td>0.000000</td>\n",
       "    </tr>\n",
       "    <tr>\n",
       "      <th>25%</th>\n",
       "      <td>90.000000</td>\n",
       "      <td>1.000000</td>\n",
       "      <td>22300.000000</td>\n",
       "      <td>2018.000000</td>\n",
       "      <td>4.000000</td>\n",
       "      <td>8.000000</td>\n",
       "      <td>0.000000</td>\n",
       "      <td>0.000000</td>\n",
       "      <td>0.000000</td>\n",
       "      <td>1.000000</td>\n",
       "      <td>0.000000</td>\n",
       "      <td>0.000000</td>\n",
       "      <td>0.000000</td>\n",
       "      <td>0.000000</td>\n",
       "    </tr>\n",
       "    <tr>\n",
       "      <th>50%</th>\n",
       "      <td>135.000000</td>\n",
       "      <td>1.000000</td>\n",
       "      <td>24200.000000</td>\n",
       "      <td>2019.000000</td>\n",
       "      <td>7.000000</td>\n",
       "      <td>16.000000</td>\n",
       "      <td>0.000000</td>\n",
       "      <td>0.000000</td>\n",
       "      <td>0.000000</td>\n",
       "      <td>1.000000</td>\n",
       "      <td>0.000000</td>\n",
       "      <td>0.000000</td>\n",
       "      <td>0.000000</td>\n",
       "      <td>0.000000</td>\n",
       "    </tr>\n",
       "    <tr>\n",
       "      <th>75%</th>\n",
       "      <td>185.000000</td>\n",
       "      <td>1.000000</td>\n",
       "      <td>26200.000000</td>\n",
       "      <td>2020.000000</td>\n",
       "      <td>9.000000</td>\n",
       "      <td>23.000000</td>\n",
       "      <td>0.000000</td>\n",
       "      <td>0.000000</td>\n",
       "      <td>0.000000</td>\n",
       "      <td>1.000000</td>\n",
       "      <td>0.000000</td>\n",
       "      <td>1.000000</td>\n",
       "      <td>1.000000</td>\n",
       "      <td>0.000000</td>\n",
       "    </tr>\n",
       "    <tr>\n",
       "      <th>max</th>\n",
       "      <td>1873.000000</td>\n",
       "      <td>11.800000</td>\n",
       "      <td>101100.000000</td>\n",
       "      <td>2021.000000</td>\n",
       "      <td>12.000000</td>\n",
       "      <td>31.000000</td>\n",
       "      <td>1.000000</td>\n",
       "      <td>1.000000</td>\n",
       "      <td>1.000000</td>\n",
       "      <td>1.000000</td>\n",
       "      <td>1.000000</td>\n",
       "      <td>1.000000</td>\n",
       "      <td>1.000000</td>\n",
       "      <td>1.000000</td>\n",
       "    </tr>\n",
       "  </tbody>\n",
       "</table>\n",
       "</div>"
      ],
      "text/plain": [
       "            amount       weight      avg_price         yyyy           mm  \\\n",
       "count  6394.000000  6394.000000    6394.000000  6394.000000  6394.000000   \n",
       "mean    144.689865     1.006741   24296.027526  2018.946669     6.598061   \n",
       "std      83.133829     0.254169    3411.869563     1.392299     3.368058   \n",
       "min       1.000000     1.000000   13300.000000  2017.000000     1.000000   \n",
       "25%      90.000000     1.000000   22300.000000  2018.000000     4.000000   \n",
       "50%     135.000000     1.000000   24200.000000  2019.000000     7.000000   \n",
       "75%     185.000000     1.000000   26200.000000  2020.000000     9.000000   \n",
       "max    1873.000000    11.800000  101100.000000  2021.000000    12.000000   \n",
       "\n",
       "                dd    origin_격포    origin_군산    origin_대천    origin_완도  \\\n",
       "count  6394.000000  6394.000000  6394.000000  6394.000000  6394.000000   \n",
       "mean     15.711448     0.000156     0.000156     0.000626     0.999062   \n",
       "std       8.742243     0.012506     0.012506     0.025006     0.030621   \n",
       "min       1.000000     0.000000     0.000000     0.000000     0.000000   \n",
       "25%       8.000000     0.000000     0.000000     0.000000     1.000000   \n",
       "50%      16.000000     0.000000     0.000000     0.000000     1.000000   \n",
       "75%      23.000000     0.000000     0.000000     0.000000     1.000000   \n",
       "max      31.000000     1.000000     1.000000     1.000000     1.000000   \n",
       "\n",
       "       standard_11/12미  standard_12/13미  standard_13/14미  standard_14/15미  \n",
       "count      6394.000000      6394.000000      6394.000000      6394.000000  \n",
       "mean          0.248827         0.251799         0.250547         0.248827  \n",
       "std           0.432367         0.434080         0.433362         0.432367  \n",
       "min           0.000000         0.000000         0.000000         0.000000  \n",
       "25%           0.000000         0.000000         0.000000         0.000000  \n",
       "50%           0.000000         0.000000         0.000000         0.000000  \n",
       "75%           0.000000         1.000000         1.000000         0.000000  \n",
       "max           1.000000         1.000000         1.000000         1.000000  "
      ]
     },
     "execution_count": 124,
     "metadata": {},
     "output_type": "execute_result"
    }
   ],
   "source": [
    "jb_pdf.describe()"
   ]
  },
  {
   "cell_type": "markdown",
   "metadata": {},
   "source": [
    "## 시각화"
   ]
  },
  {
   "cell_type": "code",
   "execution_count": 127,
   "metadata": {},
   "outputs": [],
   "source": [
    "num_cols = ['amount', 'weight', 'avg_price', 'yyyy', 'mm', 'dd']\n",
    "num_jb_pdf = jb_pdf[num_cols]"
   ]
  },
  {
   "cell_type": "code",
   "execution_count": 128,
   "metadata": {},
   "outputs": [
    {
     "data": {
      "text/plain": [
       "<AxesSubplot:>"
      ]
     },
     "execution_count": 128,
     "metadata": {},
     "output_type": "execute_result"
    },
    {
     "data": {
      "image/png": "[encoded data removed]",
      "text/plain": [
       "<Figure size 576x432 with 2 Axes>"
      ]
     },
     "metadata": {
      "needs_background": "light"
     },
     "output_type": "display_data"
    }
   ],
   "source": [
    "plt.figure(figsize=(8, 6))\n",
    "sns.heatmap(num_jb_pdf.corr(), annot=True)"
   ]
  },
  {
   "cell_type": "code",
   "execution_count": 129,
   "metadata": {},
   "outputs": [
    {
     "name": "stdout",
     "output_type": "stream",
     "text": [
      "Index(['amount', 'weight', 'avg_price', 'yyyy', 'mm', 'dd', 'origin_격포',\n",
      "       'origin_군산', 'origin_대천', 'origin_완도', 'standard_11/12미',\n",
      "       'standard_12/13미', 'standard_13/14미', 'standard_14/15미'],\n",
      "      dtype='object')\n",
      "컬럼 수 : 14\n"
     ]
    }
   ],
   "source": [
    "print(jb_pdf.columns)\n",
    "print(\"컬럼 수 :\", len(jb_pdf.columns))"
   ]
  },
  {
   "cell_type": "code",
   "execution_count": 130,
   "metadata": {},
   "outputs": [
    {
     "data": {
      "image/png": "[encoded data removed]",
      "text/plain": [
       "<Figure size 1152x936 with 6 Axes>"
      ]
     },
     "metadata": {
      "needs_background": "light"
     },
     "output_type": "display_data"
    }
   ],
   "source": [
    "fig, ax = plt.subplots(nrows = 2, ncols =3)\n",
    "fig.set_size_inches(16,13)\n",
    "for i in range(len(num_jb_pdf.columns)):\n",
    "    sns.scatterplot(data = num_jb_pdf, y = 'avg_price' ,x = num_jb_pdf.columns[i], ax= ax[int(i//3)][int(i%3)])\n",
    "    ax[int(i//3)][int(i%3)].set_title(\"scatterplot : \" + num_jb_pdf.columns[i])\n",
    "\n",
    "plt.show()"
   ]
  },
  {
   "cell_type": "code",
   "execution_count": 131,
   "metadata": {},
   "outputs": [
    {
     "data": {
      "image/png": "[encoded data removed]",
      "text/plain": [
       "<Figure size 1152x936 with 6 Axes>"
      ]
     },
     "metadata": {
      "needs_background": "light"
     },
     "output_type": "display_data"
    }
   ],
   "source": [
    "fig, ax = plt.subplots(nrows = 2, ncols =3)\n",
    "fig.set_size_inches(16,13)\n",
    "for i in range(len(num_jb_pdf.columns)):\n",
    "    sns.boxplot(data = num_jb_pdf, y = num_jb_pdf.columns[i], ax= ax[int(i//3)][int(i%3)])\n",
    "    ax[int(i//3)][int(i%3)].set_title(\"scatterplot : \" + num_jb_pdf.columns[i])\n",
    "\n",
    "plt.show()"
   ]
  },
  {
   "cell_type": "markdown",
   "metadata": {},
   "source": [
    "### 결측치 제거"
   ]
  },
  {
   "cell_type": "markdown",
   "metadata": {},
   "source": [
    "amout > 1000 이상 데이터 제거"
   ]
  },
  {
   "cell_type": "code",
   "execution_count": 132,
   "metadata": {},
   "outputs": [
    {
     "data": {
      "text/plain": [
       "25750       1\n",
       "3300        4\n",
       "23596      10\n",
       "31038      10\n",
       "9167       10\n",
       "         ... \n",
       "7962      617\n",
       "8684      631\n",
       "29374     767\n",
       "30255    1779\n",
       "30057    1873\n",
       "Name: amount, Length: 6394, dtype: int32"
      ]
     },
     "execution_count": 132,
     "metadata": {},
     "output_type": "execute_result"
    }
   ],
   "source": [
    "jb_pdf['amount'].sort_values()"
   ]
  },
  {
   "cell_type": "code",
   "execution_count": 134,
   "metadata": {},
   "outputs": [],
   "source": [
    "jb_pdf = jb_pdf[jb_pdf.amount < 1000]"
   ]
  },
  {
   "cell_type": "markdown",
   "metadata": {},
   "source": [
    "weight > 4 이상 데이터 제거"
   ]
  },
  {
   "cell_type": "code",
   "execution_count": 135,
   "metadata": {},
   "outputs": [
    {
     "data": {
      "text/plain": [
       "1         1.0\n",
       "21376     1.0\n",
       "21362     1.0\n",
       "21360     1.0\n",
       "21358     1.0\n",
       "         ... \n",
       "23738     4.0\n",
       "1643     10.0\n",
       "15886    10.6\n",
       "25750    11.7\n",
       "21097    11.8\n",
       "Name: weight, Length: 6392, dtype: float64"
      ]
     },
     "execution_count": 135,
     "metadata": {},
     "output_type": "execute_result"
    }
   ],
   "source": [
    "jb_pdf['weight'].sort_values()"
   ]
  },
  {
   "cell_type": "code",
   "execution_count": 145,
   "metadata": {},
   "outputs": [],
   "source": [
    "jb_pdf = jb_pdf[jb_pdf.weight < 4]"
   ]
  },
  {
   "cell_type": "markdown",
   "metadata": {},
   "source": [
    "avg_price는 위의 이상치 제거하면서 사라짐 -> 제거하지 않음"
   ]
  },
  {
   "cell_type": "code",
   "execution_count": 146,
   "metadata": {},
   "outputs": [
    {
     "data": {
      "text/plain": [
       "29617    13300\n",
       "24022    13300\n",
       "23879    13700\n",
       "23778    14200\n",
       "23722    14200\n",
       "         ...  \n",
       "31558    36500\n",
       "2        37700\n",
       "19902    37800\n",
       "16180    39500\n",
       "1        40200\n",
       "Name: avg_price, Length: 6387, dtype: int32"
      ]
     },
     "execution_count": 146,
     "metadata": {},
     "output_type": "execute_result"
    }
   ],
   "source": [
    "jb_pdf['avg_price'].sort_values()"
   ]
  },
  {
   "cell_type": "code",
   "execution_count": 149,
   "metadata": {},
   "outputs": [
    {
     "data": {
      "text/plain": [
       "amount             6387\n",
       "weight             6387\n",
       "avg_price          6387\n",
       "yyyy               6387\n",
       "mm                 6387\n",
       "dd                 6387\n",
       "origin_격포          6387\n",
       "origin_군산          6387\n",
       "origin_대천          6387\n",
       "origin_완도          6387\n",
       "standard_11/12미    6387\n",
       "standard_12/13미    6387\n",
       "standard_13/14미    6387\n",
       "standard_14/15미    6387\n",
       "dtype: int64"
      ]
     },
     "execution_count": 149,
     "metadata": {},
     "output_type": "execute_result"
    }
   ],
   "source": [
    "jb_pdf.count()"
   ]
  },
  {
   "cell_type": "markdown",
   "metadata": {},
   "source": [
    "## 선형 회귀"
   ]
  },
  {
   "cell_type": "code",
   "execution_count": 150,
   "metadata": {},
   "outputs": [
    {
     "data": {
      "text/html": [
       "<div>\n",
       "<style scoped>\n",
       "    .dataframe tbody tr th:only-of-type {\n",
       "        vertical-align: middle;\n",
       "    }\n",
       "\n",
       "    .dataframe tbody tr th {\n",
       "        vertical-align: top;\n",
       "    }\n",
       "\n",
       "    .dataframe thead th {\n",
       "        text-align: right;\n",
       "    }\n",
       "</style>\n",
       "<table border=\"1\" class=\"dataframe\">\n",
       "  <thead>\n",
       "    <tr style=\"text-align: right;\">\n",
       "      <th></th>\n",
       "      <th>amount</th>\n",
       "      <th>weight</th>\n",
       "      <th>avg_price</th>\n",
       "      <th>yyyy</th>\n",
       "      <th>mm</th>\n",
       "      <th>dd</th>\n",
       "      <th>origin_격포</th>\n",
       "      <th>origin_군산</th>\n",
       "      <th>origin_대천</th>\n",
       "      <th>origin_완도</th>\n",
       "      <th>standard_11/12미</th>\n",
       "      <th>standard_12/13미</th>\n",
       "      <th>standard_13/14미</th>\n",
       "      <th>standard_14/15미</th>\n",
       "    </tr>\n",
       "  </thead>\n",
       "  <tbody>\n",
       "    <tr>\n",
       "      <th>1</th>\n",
       "      <td>33</td>\n",
       "      <td>1.0</td>\n",
       "      <td>40200</td>\n",
       "      <td>2017</td>\n",
       "      <td>1</td>\n",
       "      <td>2</td>\n",
       "      <td>0</td>\n",
       "      <td>0</td>\n",
       "      <td>0</td>\n",
       "      <td>1</td>\n",
       "      <td>1</td>\n",
       "      <td>0</td>\n",
       "      <td>0</td>\n",
       "      <td>0</td>\n",
       "    </tr>\n",
       "    <tr>\n",
       "      <th>2</th>\n",
       "      <td>145</td>\n",
       "      <td>1.0</td>\n",
       "      <td>37700</td>\n",
       "      <td>2017</td>\n",
       "      <td>1</td>\n",
       "      <td>2</td>\n",
       "      <td>0</td>\n",
       "      <td>0</td>\n",
       "      <td>0</td>\n",
       "      <td>1</td>\n",
       "      <td>0</td>\n",
       "      <td>1</td>\n",
       "      <td>0</td>\n",
       "      <td>0</td>\n",
       "    </tr>\n",
       "    <tr>\n",
       "      <th>4</th>\n",
       "      <td>124</td>\n",
       "      <td>1.0</td>\n",
       "      <td>36100</td>\n",
       "      <td>2017</td>\n",
       "      <td>1</td>\n",
       "      <td>2</td>\n",
       "      <td>0</td>\n",
       "      <td>0</td>\n",
       "      <td>0</td>\n",
       "      <td>1</td>\n",
       "      <td>0</td>\n",
       "      <td>0</td>\n",
       "      <td>1</td>\n",
       "      <td>0</td>\n",
       "    </tr>\n",
       "    <tr>\n",
       "      <th>5</th>\n",
       "      <td>99</td>\n",
       "      <td>1.0</td>\n",
       "      <td>35000</td>\n",
       "      <td>2017</td>\n",
       "      <td>1</td>\n",
       "      <td>2</td>\n",
       "      <td>0</td>\n",
       "      <td>0</td>\n",
       "      <td>0</td>\n",
       "      <td>1</td>\n",
       "      <td>0</td>\n",
       "      <td>0</td>\n",
       "      <td>0</td>\n",
       "      <td>1</td>\n",
       "    </tr>\n",
       "    <tr>\n",
       "      <th>22</th>\n",
       "      <td>139</td>\n",
       "      <td>1.0</td>\n",
       "      <td>34700</td>\n",
       "      <td>2017</td>\n",
       "      <td>1</td>\n",
       "      <td>3</td>\n",
       "      <td>0</td>\n",
       "      <td>0</td>\n",
       "      <td>0</td>\n",
       "      <td>1</td>\n",
       "      <td>1</td>\n",
       "      <td>0</td>\n",
       "      <td>0</td>\n",
       "      <td>0</td>\n",
       "    </tr>\n",
       "  </tbody>\n",
       "</table>\n",
       "</div>"
      ],
      "text/plain": [
       "    amount  weight  avg_price  yyyy  mm  dd  origin_격포  origin_군산  origin_대천  \\\n",
       "1       33     1.0      40200  2017   1   2          0          0          0   \n",
       "2      145     1.0      37700  2017   1   2          0          0          0   \n",
       "4      124     1.0      36100  2017   1   2          0          0          0   \n",
       "5       99     1.0      35000  2017   1   2          0          0          0   \n",
       "22     139     1.0      34700  2017   1   3          0          0          0   \n",
       "\n",
       "    origin_완도  standard_11/12미  standard_12/13미  standard_13/14미  \\\n",
       "1           1                1                0                0   \n",
       "2           1                0                1                0   \n",
       "4           1                0                0                1   \n",
       "5           1                0                0                0   \n",
       "22          1                1                0                0   \n",
       "\n",
       "    standard_14/15미  \n",
       "1                 0  \n",
       "2                 0  \n",
       "4                 0  \n",
       "5                 1  \n",
       "22                0  "
      ]
     },
     "execution_count": 150,
     "metadata": {},
     "output_type": "execute_result"
    }
   ],
   "source": [
    "jb_pdf.head()"
   ]
  },
  {
   "cell_type": "code",
   "execution_count": 151,
   "metadata": {},
   "outputs": [],
   "source": [
    "X = jb_pdf.drop(columns='avg_price')\n",
    "y = jb_pdf['avg_price']"
   ]
  },
  {
   "cell_type": "code",
   "execution_count": 152,
   "metadata": {},
   "outputs": [],
   "source": [
    "X_train, X_test, y_train, y_test = train_test_split(X, y, random_state = 20, shuffle =True, test_size = 0.2)"
   ]
  },
  {
   "cell_type": "code",
   "execution_count": 153,
   "metadata": {},
   "outputs": [],
   "source": [
    "jb_model_lr = LinearRegression()\n",
    "jb_model_lr.fit(X_train, y_train)\n",
    "jb_lr_y_pred = jb_model_lr.predict(X_test)"
   ]
  },
  {
   "cell_type": "code",
   "execution_count": 154,
   "metadata": {},
   "outputs": [
    {
     "name": "stdout",
     "output_type": "stream",
     "text": [
      "0.3666512711726564\n",
      "0.4355898451420406\n"
     ]
    }
   ],
   "source": [
    "print(jb_model_lr.score(X_train, y_train))\n",
    "print(jb_model_lr.score(X_test, y_test))"
   ]
  },
  {
   "cell_type": "code",
   "execution_count": 155,
   "metadata": {},
   "outputs": [
    {
     "name": "stdout",
     "output_type": "stream",
     "text": [
      "MSE : 5987086.89332, RMSE : 2446.85245\n",
      "r2_score :  0.4355898451420406\n"
     ]
    }
   ],
   "source": [
    "MSE = mean_squared_error(y_test, jb_lr_y_pred)\n",
    "RMSE = np.sqrt(MSE)\n",
    "r2 = r2_score(y_test, jb_lr_y_pred)\n",
    "\n",
    "print('MSE : {0:.5f}, RMSE : {1:.5f}'.format(MSE, RMSE))\n",
    "print(\"r2_score : \", r2)"
   ]
  },
  {
   "cell_type": "code",
   "execution_count": null,
   "metadata": {},
   "outputs": [],
   "source": [
    "y_test = np.array(y_test)"
   ]
  },
  {
   "cell_type": "code",
   "execution_count": 158,
   "metadata": {},
   "outputs": [
    {
     "data": {
      "image/png": "[encoded data removed]",
      "text/plain": [
       "<Figure size 432x288 with 1 Axes>"
      ]
     },
     "metadata": {
      "needs_background": "light"
     },
     "output_type": "display_data"
    }
   ],
   "source": [
    "y_test = np.array(y_test)\n",
    "\n",
    "real = []\n",
    "pred = []\n",
    "index = []\n",
    "\n",
    "for i in range(100):\n",
    "  index.append(i)\n",
    "  real.append(y_test[i])\n",
    "  pred.append(jb_lr_y_pred[i])\n",
    "  \n",
    "plt.plot(index, real, 'b--', label=\"Real\")\n",
    "plt.plot(index, pred, 'r--', label=\"Pred\")\n",
    "plt.show()"
   ]
  },
  {
   "cell_type": "code",
   "execution_count": 160,
   "metadata": {},
   "outputs": [],
   "source": [
    "# from sklearn.preprocessing import MinMaxScaler, StandardScaler\n",
    "\n",
    "scaler = StandardScaler()\n",
    "# minmax_scaler = MinMaxScaler()\n",
    "scaler.fit(X_train)\n",
    "\n",
    "x_train_scaled = scaler.transform(X_train)\n",
    "x_test_scaled = scaler.transform(X_test)"
   ]
  },
  {
   "cell_type": "code",
   "execution_count": 161,
   "metadata": {},
   "outputs": [],
   "source": [
    "jb_model_lr.fit(x_train_scaled, y_train)\n",
    "jb_y_pred_scaled = jb_model_lr.predict(x_test_scaled)"
   ]
  },
  {
   "cell_type": "code",
   "execution_count": 162,
   "metadata": {},
   "outputs": [
    {
     "name": "stdout",
     "output_type": "stream",
     "text": [
      "MSE : 5986544.12045, RMSE : 2446.74153\n",
      "r2_score :  0.4356410130187749\n"
     ]
    }
   ],
   "source": [
    "MSE = mean_squared_error(y_test, jb_y_pred_scaled)\n",
    "RMSE = np.sqrt(MSE)\n",
    "r2 = r2_score(y_test, jb_y_pred_scaled)\n",
    "\n",
    "print('MSE : {0:.5f}, RMSE : {1:.5f}'.format(MSE, RMSE))\n",
    "print(\"r2_score : \", r2)"
   ]
  },
  {
   "cell_type": "markdown",
   "metadata": {},
   "source": [
    "## 랜덤포레스트"
   ]
  },
  {
   "cell_type": "code",
   "execution_count": 163,
   "metadata": {},
   "outputs": [],
   "source": [
    "jb_model_rf = RandomForestRegressor()\n",
    "\n",
    "jb_model_rf.fit(X_train, y_train)\n",
    "jb_rf_y_pred = jb_model_rf.predict(X_test)"
   ]
  },
  {
   "cell_type": "code",
   "execution_count": 164,
   "metadata": {},
   "outputs": [
    {
     "name": "stdout",
     "output_type": "stream",
     "text": [
      "MSE : 1452539.49609, RMSE : 1205.21346\n",
      "r2_score :  0.8630672885609384\n"
     ]
    }
   ],
   "source": [
    "MSE = mean_squared_error(y_test, jb_rf_y_pred)\n",
    "RMSE = np.sqrt(MSE)\n",
    "r2 = r2_score(y_test, jb_rf_y_pred)\n",
    "\n",
    "print('MSE : {0:.5f}, RMSE : {1:.5f}'.format(MSE, RMSE))\n",
    "print(\"r2_score : \", r2)"
   ]
  },
  {
   "cell_type": "code",
   "execution_count": 165,
   "metadata": {},
   "outputs": [
    {
     "name": "stdout",
     "output_type": "stream",
     "text": [
      "최적 하이퍼 파라미터: {'max_depth': None, 'n_estimators': 250, 'random_state': 99}\n",
      "최적 예측 정확도: 0.8216\n"
     ]
    }
   ],
   "source": [
    "rf_parameters = {\n",
    "    'n_estimators': [100, 150, 200, 250],\n",
    "    'max_depth': [None, 5, 6, 9, 12],\n",
    "    # 'max_depth': [5, 6, 9, 12],\n",
    "    # 'min_samples_split': [0.01, 0.02, 0.1, 0.15],\n",
    "    # 'max_features': ['auto', 'sqrt'],\n",
    "    'random_state':[99]\n",
    "}\n",
    "\n",
    "cv = KFold(n_splits=6)\n",
    "\n",
    "rf = RandomForestRegressor()\n",
    "rf_grid_cv = GridSearchCV(rf, param_grid=rf_parameters, cv=cv, n_jobs=-1, scoring='r2')\n",
    "rf_grid_cv.fit(X_train, y_train)\n",
    " \n",
    " \n",
    "print('최적 하이퍼 파라미터:', rf_grid_cv.best_params_)\n",
    "print('최적 예측 정확도: {0:.4f}'.format(rf_grid_cv.best_score_))"
   ]
  },
  {
   "cell_type": "code",
   "execution_count": 166,
   "metadata": {},
   "outputs": [],
   "source": [
    "jb_model_rf = rf_grid_cv.best_estimator_\n",
    "jb_rf_y_pred = jb_model_rf.predict(X_test)"
   ]
  },
  {
   "cell_type": "code",
   "execution_count": 167,
   "metadata": {},
   "outputs": [
    {
     "name": "stdout",
     "output_type": "stream",
     "text": [
      "MSE : 1426147.00995, RMSE : 1194.21397\n",
      "r2_score :  0.8655553411734564\n"
     ]
    }
   ],
   "source": [
    "MSE = mean_squared_error(y_test, jb_rf_y_pred)\n",
    "RMSE = np.sqrt(MSE)\n",
    "r2 = r2_score(y_test, jb_rf_y_pred)\n",
    "\n",
    "print('MSE : {0:.5f}, RMSE : {1:.5f}'.format(MSE, RMSE))\n",
    "print(\"r2_score : \", r2)"
   ]
  },
  {
   "cell_type": "code",
   "execution_count": 168,
   "metadata": {},
   "outputs": [
    {
     "data": {
      "image/png": "[encoded data removed]",
      "text/plain": [
       "<Figure size 432x288 with 1 Axes>"
      ]
     },
     "metadata": {
      "needs_background": "light"
     },
     "output_type": "display_data"
    }
   ],
   "source": [
    "real = []\n",
    "pred = []\n",
    "index = []\n",
    "\n",
    "for i in range(100):\n",
    "  index.append(i)\n",
    "  real.append(y_test[i])\n",
    "  pred.append(jb_rf_y_pred[i])\n",
    "  \n",
    "plt.plot(index, real, 'b--', label=\"Real\")\n",
    "plt.plot(index, pred, 'r--', label=\"Pred\")\n",
    "plt.show()"
   ]
  },
  {
   "cell_type": "markdown",
   "metadata": {},
   "source": [
    "## XGBRegressor"
   ]
  },
  {
   "cell_type": "code",
   "execution_count": 170,
   "metadata": {},
   "outputs": [],
   "source": [
    "jb_model_xgb = XGBRegressor()\n",
    "\n",
    "jb_model_xgb.fit(X_train, y_train)\n",
    "jb_xgb_y_pred = jb_model_xgb.predict(X_test)"
   ]
  },
  {
   "cell_type": "code",
   "execution_count": 171,
   "metadata": {},
   "outputs": [
    {
     "name": "stdout",
     "output_type": "stream",
     "text": [
      "MSE : 1539227.20489, RMSE : 1240.65596\n",
      "r2_score :  0.8548951300434996\n"
     ]
    }
   ],
   "source": [
    "MSE = mean_squared_error(y_test, jb_xgb_y_pred)\n",
    "RMSE = np.sqrt(MSE)\n",
    "r2 = r2_score(y_test, jb_xgb_y_pred)\n",
    "\n",
    "print('MSE : {0:.5f}, RMSE : {1:.5f}'.format(MSE, RMSE))\n",
    "print(\"r2_score : \", r2)"
   ]
  },
  {
   "cell_type": "markdown",
   "metadata": {},
   "source": [
    "xgb에 gcv 해본 것"
   ]
  },
  {
   "cell_type": "code",
   "execution_count": 173,
   "metadata": {},
   "outputs": [
    {
     "name": "stdout",
     "output_type": "stream",
     "text": [
      "최적 하이퍼 파라미터: {'gamma': 4, 'learning_rate': 0.1, 'max_depth': 6, 'n_estimators': 300, 'random_state': 99}\n",
      "최적 예측 정확도: 0.8257\n"
     ]
    }
   ],
   "source": [
    "xg_parameters ={'max_depth' : [3,4,5,6] , \n",
    "                # 'n_estimators': [12,24,32], \n",
    "                'n_estimators': [100,200,300], \n",
    "                'learning_rate':[0.01, 0.1], \n",
    "                # 'learning_rate':[0.1, 0.3, 0.5], \n",
    "                'gamma': [1, 2, 4], \n",
    "                'random_state':[99]}\n",
    "\n",
    "xgb = XGBRegressor()\n",
    "xgb_grid_cv = GridSearchCV(xgb, param_grid=xg_parameters, cv=6, n_jobs=-1, scoring='r2')\n",
    "xgb_grid_cv.fit(X_train, y_train)\n",
    " \n",
    " \n",
    "print('최적 하이퍼 파라미터:', xgb_grid_cv.best_params_)\n",
    "print('최적 예측 정확도: {0:.4f}'.format(xgb_grid_cv.best_score_))\n"
   ]
  },
  {
   "cell_type": "code",
   "execution_count": 174,
   "metadata": {},
   "outputs": [],
   "source": [
    "jb_model_xgb = xgb_grid_cv.best_estimator_\n",
    "jb_xgb_y_pred = jb_model_xgb.predict(X_test)"
   ]
  },
  {
   "cell_type": "code",
   "execution_count": 175,
   "metadata": {},
   "outputs": [
    {
     "name": "stdout",
     "output_type": "stream",
     "text": [
      "MSE : 1388570.85638, RMSE : 1178.37636\n",
      "r2_score :  0.8690976920759605\n"
     ]
    }
   ],
   "source": [
    "MSE = mean_squared_error(y_test, jb_xgb_y_pred)\n",
    "RMSE = np.sqrt(MSE)\n",
    "r2 = r2_score(y_test, jb_xgb_y_pred)\n",
    "\n",
    "print('MSE : {0:.5f}, RMSE : {1:.5f}'.format(MSE, RMSE))\n",
    "print(\"r2_score : \", r2)"
   ]
  },
  {
   "cell_type": "code",
   "execution_count": 176,
   "metadata": {},
   "outputs": [
    {
     "data": {
      "image/png": "[encoded data removed]",
      "text/plain": [
       "<Figure size 432x288 with 1 Axes>"
      ]
     },
     "metadata": {
      "needs_background": "light"
     },
     "output_type": "display_data"
    }
   ],
   "source": [
    "real = []\n",
    "pred = []\n",
    "index = []\n",
    "\n",
    "for i in range(100):\n",
    "  index.append(i)\n",
    "  real.append(y_test[i])\n",
    "  pred.append(jb_xgb_y_pred[i])\n",
    "  \n",
    "plt.plot(index, real, 'b--', label=\"Real\")\n",
    "plt.plot(index, pred, 'r--', label=\"Pred\")\n",
    "plt.show()"
   ]
  },
  {
   "cell_type": "markdown",
   "metadata": {},
   "source": [
    "## lightGBM"
   ]
  },
  {
   "cell_type": "code",
   "execution_count": 177,
   "metadata": {},
   "outputs": [],
   "source": [
    "jb_model_lgb = LGBMRegressor()\n",
    "\n",
    "jb_model_lgb.fit(X_train, y_train)\n",
    "jb_lgb_y_pred = jb_model_lgb.predict(X_test)"
   ]
  },
  {
   "cell_type": "code",
   "execution_count": 178,
   "metadata": {},
   "outputs": [
    {
     "name": "stdout",
     "output_type": "stream",
     "text": [
      "MSE : 1558979.93629, RMSE : 1248.59118\n",
      "r2_score :  0.8530330153982681\n"
     ]
    }
   ],
   "source": [
    "MSE = mean_squared_error(y_test, jb_lgb_y_pred)\n",
    "RMSE = np.sqrt(MSE)\n",
    "r2 = r2_score(y_test, jb_lgb_y_pred)\n",
    "\n",
    "print('MSE : {0:.5f}, RMSE : {1:.5f}'.format(MSE, RMSE))\n",
    "print(\"r2_score : \", r2)"
   ]
  },
  {
   "cell_type": "code",
   "execution_count": 179,
   "metadata": {},
   "outputs": [
    {
     "name": "stdout",
     "output_type": "stream",
     "text": [
      "최적 하이퍼 파라미터: {'colsample_bytree': 0.8, 'learning_rate': 0.1, 'max_depth': 8, 'n_estimators': 500, 'subsample': 0.8}\n",
      "최적 예측 정확도: 0.8338\n"
     ]
    }
   ],
   "source": [
    "# lgb_parameters ={'max_depth' : [3,4,5,6] ,  \n",
    "#                 'n_estimators': [100,300,500], \n",
    "#                 'learning_rate':[0.01, 0.05, 0.1],   \n",
    "#                 'random_state':[99]}\n",
    "\n",
    "lgb_parameters ={\n",
    "    'n_estimators': [200, 500, 1000, 2000],\n",
    "    'learning_rate': [0.1, 0.05, 0.01],\n",
    "    'max_depth': [6, 7, 8],\n",
    "    'colsample_bytree': [0.8, 0.9, 1.0],\n",
    "    'subsample': [0.8, 0.9, 1.0] \n",
    "                }\n",
    "\n",
    "lgb = LGBMRegressor()\n",
    "lgb_grid_cv = GridSearchCV(lgb, param_grid=lgb_parameters, cv=6, n_jobs=-1, scoring='r2')\n",
    "lgb_grid_cv.fit(X_train, y_train)\n",
    " \n",
    " \n",
    "print('최적 하이퍼 파라미터:', lgb_grid_cv.best_params_)\n",
    "print('최적 예측 정확도: {0:.4f}'.format(lgb_grid_cv.best_score_))"
   ]
  },
  {
   "cell_type": "code",
   "execution_count": 180,
   "metadata": {},
   "outputs": [],
   "source": [
    "jb_model_lgb = lgb_grid_cv.best_estimator_\n",
    "jb_lgb_y_pred = jb_model_lgb.predict(X_test)"
   ]
  },
  {
   "cell_type": "code",
   "execution_count": 181,
   "metadata": {},
   "outputs": [
    {
     "name": "stdout",
     "output_type": "stream",
     "text": [
      "MSE : 1418035.10197, RMSE : 1190.81279\n",
      "r2_score :  0.8663200608650123\n"
     ]
    }
   ],
   "source": [
    "MSE = mean_squared_error(y_test, jb_lgb_y_pred)\n",
    "RMSE = np.sqrt(MSE)\n",
    "r2 = r2_score(y_test, jb_lgb_y_pred)\n",
    "\n",
    "print('MSE : {0:.5f}, RMSE : {1:.5f}'.format(MSE, RMSE))\n",
    "print(\"r2_score : \", r2)"
   ]
  },
  {
   "cell_type": "code",
   "execution_count": 182,
   "metadata": {},
   "outputs": [
    {
     "data": {
      "image/png": "[encoded data removed]",
      "text/plain": [
       "<Figure size 432x288 with 1 Axes>"
      ]
     },
     "metadata": {
      "needs_background": "light"
     },
     "output_type": "display_data"
    }
   ],
   "source": [
    "real = []\n",
    "pred = []\n",
    "index = []\n",
    "\n",
    "for i in range(100):\n",
    "  index.append(i)\n",
    "  real.append(y_test[i])\n",
    "  pred.append(jb_lgb_y_pred[i])\n",
    "  \n",
    "plt.plot(index, real, 'b--', label=\"Real\")\n",
    "plt.plot(index, pred, 'r--', label=\"Pred\")\n",
    "plt.show()"
   ]
  },
  {
   "cell_type": "code",
   "execution_count": null,
   "metadata": {},
   "outputs": [],
   "source": []
  }
 ],
 "metadata": {
  "kernelspec": {
   "display_name": "Python 3.8.8 ('VENV_pj3': venv)",
   "language": "python",
   "name": "python3"
  },
  "language_info": {
   "codemirror_mode": {
    "name": "ipython",
    "version": 3
   },
   "file_extension": ".py",
   "mimetype": "text/x-python",
   "name": "python",
   "nbconvert_exporter": "python",
   "pygments_lexer": "ipython3",
   "version": "3.8.8"
  },
  "orig_nbformat": 4,
  "vscode": {
   "interpreter": {
    "hash": "c5dbebbafb7f34ffec1855fdd91ee44acb08a8873b9f699f44a8cedeebe41783"
   }
  }
 },
 "nbformat": 4,
 "nbformat_minor": 2
}
